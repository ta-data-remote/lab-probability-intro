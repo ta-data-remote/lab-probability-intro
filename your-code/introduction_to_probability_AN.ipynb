{
 "cells": [
  {
   "cell_type": "markdown",
   "metadata": {},
   "source": [
    "# Introduction To Probability\n",
    "## Challenge 1\n",
    "\n",
    "A and B are events of a probability space with $(\\omega, \\sigma, P)$ such that $P(A) = 0.3$, $P(B) = 0.6$ and $P(A \\cap B) = 0.1$\n",
    "\n",
    "Which of the following statements are false?\n",
    "* $P(A \\cup B) = 0.6$\n",
    "* $P(A \\cap B^{C}) = 0.2$\n",
    "* $P(A \\cap (B \\cup B^{C})) = 0.4$\n",
    "* $P(A^{C} \\cap B^{C}) = 0.3$\n",
    "* $P((A \\cap B)^{C}) = 0.9$"
   ]
  },
  {
   "cell_type": "markdown",
   "metadata": {},
   "source": [
    "1 $P(A \\cup B) = 0.6$  <span style=\"color:red\"> *FALSE*</span>\n",
    "\n",
    "**What we have?**  \n",
    "- We have two joint events.  \n",
    "Intersection of events A and B is ($P(A \\cap B) = 0.1$), therefore in order to find the union $P(A \\cup B)$  we need to use that formula: \n",
    "\n",
    "***P(A or B) = P(A) + P(B) - P(A and B)***  \n",
    "0.6 = 0.3 + 0.6 - 0.1  \n",
    "**0.6** $\\neq$ **0.8**"
   ]
  },
  {
   "cell_type": "markdown",
   "metadata": {},
   "source": [
    "$\\rule{26cm}{1pt}$"
   ]
  },
  {
   "cell_type": "markdown",
   "metadata": {},
   "source": [
    "2 $P(A \\cap B^{C}) = 0.2$  <span style=\"color:green\"> *TRUE*</span>\n",
    "\n",
    "We are interesting in finding the probability of having A but not B.\n",
    "\n",
    "$P(A \\cap B^{C}) = P(A) - P(A \\cap B)$  \n",
    "$P(A \\cap B^{C}) = 0.3 - 0.1$  \n",
    "$P(A \\cap B^{C}) = 0.2$\n",
    " "
   ]
  },
  {
   "cell_type": "markdown",
   "metadata": {},
   "source": [
    "$\\rule{26cm}{1pt}$"
   ]
  },
  {
   "cell_type": "markdown",
   "metadata": {},
   "source": [
    "3 $P(A \\cap (B \\cup B^{C})) = 0.4$  <span style=\"color:red\"> *FALSE*</span>  \n",
    "\n",
    "We are interested in finding the probability of having (A and (B or not B))\n",
    "\n",
    "$P(A * (B + (B^{C}))$    \n",
    "$0,3 * (0.6 + (1-0.6))$    \n",
    "$0,3 * (0.6 + 0.4)$  \n",
    "$0.3 * 1 = 0.3$  \n",
    " \n",
    "$P(A \\cap (B \\cup B^{C})) = 0.3$ "
   ]
  },
  {
   "cell_type": "markdown",
   "metadata": {},
   "source": [
    "$\\rule{26cm}{1pt}$"
   ]
  },
  {
   "cell_type": "markdown",
   "metadata": {},
   "source": [
    "4 $P(A^{C} \\cap B^{C}) = 0.3$ <span style=\"color:red\"> *FALSE*</span>  \n",
    "\n",
    "We are interested in finding the probability of having not A and not B  \n",
    "\n",
    "$P(A^{C} \\cap B^{C}) = 1 - P(A \\cup B)$  \n",
    "$P(A^{C} \\cap B^{C}) = 1 - 0.8$  \n",
    "$P(A^{C} \\cap B^{C}) = 0.2$\n",
    "\n"
   ]
  },
  {
   "cell_type": "markdown",
   "metadata": {},
   "source": [
    "$\\rule{26cm}{1pt}$"
   ]
  },
  {
   "cell_type": "markdown",
   "metadata": {},
   "source": [
    "5 $P((A \\cap B)^{C}) = 0.9$ <span style=\"color:green\"> *TRUE*</span>\n",
    "\n",
    "We are interested in probability of having not A and B.  \n",
    "  \n",
    "$P((A \\cap B)^{C}) = 1 - P(A \\cap B)$  \n",
    "$P((A \\cap B)^{C}) = 1 - 0.1$  \n",
    "$P((A \\cap B)^{C}) = 0.90$\n"
   ]
  },
  {
   "cell_type": "markdown",
   "metadata": {},
   "source": [
    "## Challenge 2\n",
    "There is a box with 10 white balls, 12 red balls and 8 black balls. Calculate the probability of:\n",
    "* Taking a white ball out.\n",
    "* Taking a white ball out after taking a black ball out.\n",
    "* Taking a red ball out after taking a black and a red ball out.\n",
    "* Taking a red ball out after taking a black and a red ball out with reposition.\n",
    "\n",
    "**Hint**: Reposition means putting back the ball into the box after taking it out."
   ]
  },
  {
   "cell_type": "code",
   "execution_count": 8,
   "metadata": {},
   "outputs": [
    {
     "data": {
      "text/plain": [
       "30"
      ]
     },
     "execution_count": 8,
     "metadata": {},
     "output_type": "execute_result"
    }
   ],
   "source": [
    "white = 10\n",
    "red = 12\n",
    "black = 8\n",
    "total = white + red + black\n",
    "total"
   ]
  },
  {
   "cell_type": "code",
   "execution_count": 10,
   "metadata": {
    "scrolled": true
   },
   "outputs": [
    {
     "data": {
      "text/plain": [
       "0.3333333333333333"
      ]
     },
     "execution_count": 10,
     "metadata": {},
     "output_type": "execute_result"
    }
   ],
   "source": [
    "\"Taking a white ball out\"\n",
    "\n",
    "\n",
    "white / total"
   ]
  },
  {
   "cell_type": "code",
   "execution_count": 12,
   "metadata": {},
   "outputs": [
    {
     "data": {
      "text/plain": [
       "0.09195402298850575"
      ]
     },
     "execution_count": 12,
     "metadata": {},
     "output_type": "execute_result"
    }
   ],
   "source": [
    "\"Taking a white ball out after taking a black ball out\"\n",
    "# We have dependent events\n",
    "\n",
    "p_black = black / total\n",
    "p_white = white / (total - 1)\n",
    "p_white_after_taking_a_black_ball_out = p_black * p_white\n",
    "p_white_after_taking_a_black_ball_out\n"
   ]
  },
  {
   "cell_type": "code",
   "execution_count": 20,
   "metadata": {},
   "outputs": [
    {
     "data": {
      "text/plain": [
       "0.04334975369458128"
      ]
     },
     "execution_count": 20,
     "metadata": {},
     "output_type": "execute_result"
    }
   ],
   "source": [
    "\"Taking a red ball out after taking a black and a red ball out\"\n",
    "# We have dependent events\n",
    "p_black = 8 / total\n",
    "p_red = 12 / (total - 1)\n",
    "p_red_after_taking_a_black_and_red_ball_out = (11 / 28) * p_black * p_red\n",
    "p_red_after_taking_a_black_and_red_ball_out\n",
    "\n"
   ]
  },
  {
   "cell_type": "code",
   "execution_count": 26,
   "metadata": {},
   "outputs": [
    {
     "data": {
      "text/plain": [
       "0.04266666666666667"
      ]
     },
     "execution_count": 26,
     "metadata": {},
     "output_type": "execute_result"
    }
   ],
   "source": [
    "\"Taking a red ball out after taking a black and a red ball out with reposition\"\n",
    "# We have independent\n",
    "p_black = 8 / 30\n",
    "p_red = 12 / 30\n",
    "p_red_after_taking_black_and_red_ball_with_reposition = (12/30) * p_black * p_red\n",
    "p_red_after_taking_black_and_red_ball_with_reposition"
   ]
  },
  {
   "cell_type": "markdown",
   "metadata": {},
   "source": [
    "## Challenge 3\n",
    "\n",
    "You are planning to go on a picnic today but the morning is cloudy. You hate rain so you don't know whether to go out or stay home! To help you make a decision, you gather the following data about rainy days:\n",
    "\n",
    "* 50% of all rainy days start off cloudy!\n",
    "* Cloudy mornings are common. About 40% of days start cloudy. \n",
    "* This month is usually dry so only 3 of 30 days (10%) tend to be rainy. \n",
    "\n",
    "What is the chance of rain during the day?"
   ]
  },
  {
   "cell_type": "code",
   "execution_count": 1,
   "metadata": {},
   "outputs": [
    {
     "data": {
      "text/plain": [
       "0.125"
      ]
     },
     "execution_count": 1,
     "metadata": {},
     "output_type": "execute_result"
    }
   ],
   "source": [
    "# Probability of cloudy (A) = 0,40\n",
    "cloudy = 0.40\n",
    "\n",
    "# Probability of rain (B) = 0,10\n",
    "rain = 0.10\n",
    "\n",
    "# Probability of clody when rain (A|B) = 0,50\n",
    "\n",
    "clody_when_rain = 0.50\n",
    "\n",
    "# Probability of rain when clody (B|A) = ?\n",
    "\n",
    "# P(A and B) (cloudy and rainy) = P(clody when rain) * P(rain) = P(rain when cloudy) * P(cloudy)\n",
    "\n",
    "clody_and_rain = clody_when_rain * rain\n",
    "\n",
    "# P(B|A) = P(A and B) / P(A)\n",
    "clody_and_rain / cloudy\n"
   ]
  },
  {
   "cell_type": "markdown",
   "metadata": {},
   "source": [
    "## Challenge 4\n",
    "\n",
    "One thousand people were asked through a telephone survey whether they thought more street lighting is needed at night or not.\n",
    "\n",
    "Out of the 480 men that answered the survey, 324 said yes and 156 said no. On the other hand, out of the 520 women that answered, 351 said yes and 169 said no. \n",
    "\n",
    "We wonder if men and women have a different opinions about the street lighting matter. Is gender relevant or irrelevant to the question?\n",
    "\n",
    "Consider the following events:\n",
    "- The answer is yes, so the person that answered thinks that more street lighting is needed.\n",
    "- The person who answered is a man.\n",
    "\n",
    "We want to know if these events are independent, that is, if the fact of wanting more light depends on whether one is male or female. Are these events independent or not?\n",
    "\n",
    "**Hint**: To clearly compare the answers by gender, it is best to place the data in a table."
   ]
  },
  {
   "cell_type": "code",
   "execution_count": 29,
   "metadata": {},
   "outputs": [
    {
     "data": {
      "text/html": [
       "<div>\n",
       "<style scoped>\n",
       "    .dataframe tbody tr th:only-of-type {\n",
       "        vertical-align: middle;\n",
       "    }\n",
       "\n",
       "    .dataframe tbody tr th {\n",
       "        vertical-align: top;\n",
       "    }\n",
       "\n",
       "    .dataframe thead th {\n",
       "        text-align: right;\n",
       "    }\n",
       "</style>\n",
       "<table border=\"1\" class=\"dataframe\">\n",
       "  <thead>\n",
       "    <tr style=\"text-align: right;\">\n",
       "      <th></th>\n",
       "      <th>M</th>\n",
       "      <th>F</th>\n",
       "      <th>TOTAL</th>\n",
       "    </tr>\n",
       "  </thead>\n",
       "  <tbody>\n",
       "    <tr>\n",
       "      <th>YES</th>\n",
       "      <td>324</td>\n",
       "      <td>351</td>\n",
       "      <td>675</td>\n",
       "    </tr>\n",
       "    <tr>\n",
       "      <th>NO</th>\n",
       "      <td>156</td>\n",
       "      <td>169</td>\n",
       "      <td>325</td>\n",
       "    </tr>\n",
       "    <tr>\n",
       "      <th>TOTAL</th>\n",
       "      <td>480</td>\n",
       "      <td>520</td>\n",
       "      <td>1000</td>\n",
       "    </tr>\n",
       "  </tbody>\n",
       "</table>\n",
       "</div>"
      ],
      "text/plain": [
       "         M    F  TOTAL\n",
       "YES    324  351    675\n",
       "NO     156  169    325\n",
       "TOTAL  480  520   1000"
      ]
     },
     "execution_count": 29,
     "metadata": {},
     "output_type": "execute_result"
    }
   ],
   "source": [
    "import pandas as pd\n",
    "\n",
    "# What do we know initialy\n",
    "total_men = 480\n",
    "total_women = 520\n",
    "total_subjects = 1000\n",
    "total_yes_answers = 675\n",
    "total_no_answers = 325\n",
    "man_and_yes_answer = 324\n",
    "man_and_no_answer = 156\n",
    "woman_and_yes_answer = 351\n",
    "woman_and_no_answer = 169\n",
    "\n",
    "# Let's put it in a table\n",
    "\n",
    "initial_table = {'M': (man_and_yes_answer, man_and_no_answer, total_men), 'F': (\n",
    "    woman_and_yes_answer, woman_and_no_answer, total_women), 'TOTAL': (total_yes_answers, total_no_answers, total_subjects)}\n",
    "\n",
    "table = pd.DataFrame(initial_table, index=['YES', 'NO', 'TOTAL'])\n",
    "\n",
    "# Let's see some probabilities\n",
    "\n",
    "\n",
    "# Probability of being a man\n",
    "p_being_a_man = total_men / total_subjects\n",
    "\n",
    "# Probability of being a woman\n",
    "p_being_a_woman = total_women / total_subjects\n",
    "\n",
    "# Probability of answering with yes\n",
    "p_yes_answer = total_yes_answers / total_subjects\n",
    "\n",
    "# Probability of answering with no\n",
    "p_no_answer = total_no_answers / total_subjects\n",
    "\n",
    "# Probability of being a man and answer with yes\n",
    "p_man_yes = man_and_yes_answer / total_subjects\n",
    "\n",
    "# Probability of being a man and answer with no\n",
    "p_man_no = man_and_no_answer / total_subjects\n",
    "\n",
    "# Probability of being a woman and answer with yes\n",
    "p_woman_yes = woman_and_yes_answer / total_subjects\n",
    "\n",
    "# Probability of being a woman and answer with no\n",
    "p_woman_no = woman_and_no_answer / total_subjects\n",
    "\n",
    "# Total probability\n",
    "p = 1\n",
    "\n",
    "\n",
    "table.head()"
   ]
  },
  {
   "cell_type": "code",
   "execution_count": 30,
   "metadata": {},
   "outputs": [
    {
     "data": {
      "text/html": [
       "<div>\n",
       "<style scoped>\n",
       "    .dataframe tbody tr th:only-of-type {\n",
       "        vertical-align: middle;\n",
       "    }\n",
       "\n",
       "    .dataframe tbody tr th {\n",
       "        vertical-align: top;\n",
       "    }\n",
       "\n",
       "    .dataframe thead th {\n",
       "        text-align: right;\n",
       "    }\n",
       "</style>\n",
       "<table border=\"1\" class=\"dataframe\">\n",
       "  <thead>\n",
       "    <tr style=\"text-align: right;\">\n",
       "      <th></th>\n",
       "      <th>M</th>\n",
       "      <th>F</th>\n",
       "      <th>TOTAL</th>\n",
       "    </tr>\n",
       "  </thead>\n",
       "  <tbody>\n",
       "    <tr>\n",
       "      <th>YES</th>\n",
       "      <td>0.324</td>\n",
       "      <td>0.351</td>\n",
       "      <td>0.675</td>\n",
       "    </tr>\n",
       "    <tr>\n",
       "      <th>NO</th>\n",
       "      <td>0.156</td>\n",
       "      <td>0.169</td>\n",
       "      <td>0.325</td>\n",
       "    </tr>\n",
       "    <tr>\n",
       "      <th>TOTAL</th>\n",
       "      <td>0.480</td>\n",
       "      <td>0.520</td>\n",
       "      <td>1.000</td>\n",
       "    </tr>\n",
       "  </tbody>\n",
       "</table>\n",
       "</div>"
      ],
      "text/plain": [
       "           M      F  TOTAL\n",
       "YES    0.324  0.351  0.675\n",
       "NO     0.156  0.169  0.325\n",
       "TOTAL  0.480  0.520  1.000"
      ]
     },
     "execution_count": 30,
     "metadata": {},
     "output_type": "execute_result"
    }
   ],
   "source": [
    "frequency_table = {'M': (p_man_yes, p_man_no, p_being_a_man), 'F': (\n",
    "    p_woman_yes, p_woman_no, p_being_a_woman), 'TOTAL': (p_yes_answer, p_no_answer, p)}\n",
    "\n",
    "probability_frequency_table = pd.DataFrame(frequency_table, index=['YES', 'NO', 'TOTAL'])\n",
    "\n",
    "probability_frequency_table.head()"
   ]
  },
  {
   "cell_type": "code",
   "execution_count": null,
   "metadata": {},
   "outputs": [],
   "source": [
    "'''\n",
    "A = men\n",
    "Ac = woman\n",
    "\n",
    "B = yes\n",
    "Bc = no\n",
    "\n",
    "Independency test:\n",
    "P(A n B) = P(A) * P(B) \n",
    "P(A | B) = P(A)\n",
    "\n",
    "\n",
    "P(A) = 0.48\n",
    "P(B) = 0.675\n",
    "\n",
    "P(A n B) = 0.324\n",
    "P(A) * P(B) = 0.324\n",
    "\n",
    "P(A n B) = P(A) * P(B), they are independent!\n",
    "\n",
    "'''"
   ]
  }
 ],
 "metadata": {
  "kernelspec": {
   "display_name": "Python 3",
   "language": "python",
   "name": "python3"
  },
  "language_info": {
   "codemirror_mode": {
    "name": "ipython",
    "version": 3
   },
   "file_extension": ".py",
   "mimetype": "text/x-python",
   "name": "python",
   "nbconvert_exporter": "python",
   "pygments_lexer": "ipython3",
   "version": "3.9.5"
  },
  "toc": {
   "base_numbering": 1,
   "nav_menu": {},
   "number_sections": true,
   "sideBar": true,
   "skip_h1_title": false,
   "title_cell": "Table of Contents",
   "title_sidebar": "Contents",
   "toc_cell": false,
   "toc_position": {},
   "toc_section_display": true,
   "toc_window_display": false
  },
  "varInspector": {
   "cols": {
    "lenName": 16,
    "lenType": 16,
    "lenVar": 40
   },
   "kernels_config": {
    "python": {
     "delete_cmd_postfix": "",
     "delete_cmd_prefix": "del ",
     "library": "var_list.py",
     "varRefreshCmd": "print(var_dic_list())"
    },
    "r": {
     "delete_cmd_postfix": ") ",
     "delete_cmd_prefix": "rm(",
     "library": "var_list.r",
     "varRefreshCmd": "cat(var_dic_list()) "
    }
   },
   "types_to_exclude": [
    "module",
    "function",
    "builtin_function_or_method",
    "instance",
    "_Feature"
   ],
   "window_display": false
  }
 },
 "nbformat": 4,
 "nbformat_minor": 2
}
