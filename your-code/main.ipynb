{
 "cells": [
  {
   "cell_type": "markdown",
   "metadata": {},
   "source": [
    "# Introduction To Probability\n",
    "## Challenge 1\n",
    "\n",
    "A and B are events of a probability space with $(\\omega, \\sigma, P)$ such that $P(A) = 0.3$, $P(B) = 0.6$ and $P(A \\cap B) = 0.1$\n",
    "\n",
    "Which of the following statements are false?\n",
    "* $P(A \\cup B) = 0.6$\n",
    "* $P(A \\cap B^{C}) = 0.2$\n",
    "* $P(A \\cap (B \\cup B^{C})) = 0.4$\n",
    "* $P(A^{C} \\cap B^{C}) = 0.3$\n",
    "* $P((A \\cap B)^{C}) = 0.9$"
   ]
  },
  {
   "source": [
    "$P(A) = 0.3$, $P(B) = 0.6$ and $P(A \\cap B) = 0.1$\n",
    "\n",
    "\n",
    "Answer:\n",
    "\n",
    "Which of the following statements are false?\n",
    "\n",
    "$P(A \\cup B) = 0.6$ --> false --> $P(A) + P(B) - P(A \\cap B) = 0.8$\n",
    "\n",
    "$P(A \\cap B^{C}) = 0.2$ --> true --> $P(A) - P(A \\cap B) = 0.1$\n",
    "\n",
    "$P(A \\cap (B \\cup B^{C})) = 0.4$ --> false --> $P(A) + 0 = 0.3$\n",
    "\n",
    "$P(A^{C} \\cap B^{C}) = 0.3$ --> false --> $1 - P(A \\cup B) = 0.2$\n",
    "\n",
    "$P((A \\cap B)^{C}) = 0.9$ --> true --> $1 - P(A \\cap B) = 0.9$\n",
    "\n",
    "\n"
   ],
   "cell_type": "markdown",
   "metadata": {}
  },
  {
   "cell_type": "markdown",
   "metadata": {},
   "source": [
    "## Challenge 2\n",
    "There is a box with 10 white balls, 12 red balls and 8 black balls. Calculate the probability of:\n",
    "* Taking a white ball out.\n",
    "* Taking a white ball out after taking a black ball out.\n",
    "* Taking a red ball out after taking a black and a red ball out.\n",
    "* Taking a red ball out after taking a black and a red ball out with reposition.\n",
    "\n",
    "**Hint**: Reposition means putting back the ball into the box after taking it out."
   ]
  },
  {
   "source": [],
   "cell_type": "markdown",
   "metadata": {}
  },
  {
   "cell_type": "code",
   "execution_count": 1,
   "metadata": {},
   "outputs": [
    {
     "output_type": "execute_result",
     "data": {
      "text/plain": [
       "0.3333333333333333"
      ]
     },
     "metadata": {},
     "execution_count": 1
    }
   ],
   "source": [
    "\"Taking a white ball out = 1/3\"\n",
    "10/30"
   ]
  },
  {
   "cell_type": "code",
   "execution_count": 3,
   "metadata": {},
   "outputs": [
    {
     "output_type": "execute_result",
     "data": {
      "text/plain": [
       "0.09195402298850575"
      ]
     },
     "metadata": {},
     "execution_count": 3
    }
   ],
   "source": [
    "\"Taking a white ball out after taking a black ball out\"\n",
    "8/30 * 10/29"
   ]
  },
  {
   "cell_type": "code",
   "execution_count": 7,
   "metadata": {},
   "outputs": [
    {
     "output_type": "execute_result",
     "data": {
      "text/plain": [
       "0.043349753694581286"
      ]
     },
     "metadata": {},
     "execution_count": 7
    }
   ],
   "source": [
    "\"Taking a red ball out after taking a black and a red ball out\"\n",
    "8/30 * 12/29 * 11/28"
   ]
  },
  {
   "cell_type": "code",
   "execution_count": 9,
   "metadata": {},
   "outputs": [
    {
     "output_type": "execute_result",
     "data": {
      "text/plain": [
       "0.042666666666666665"
      ]
     },
     "metadata": {},
     "execution_count": 9
    }
   ],
   "source": [
    "\"Taking a red ball out after taking a black and a red ball out with reposition\"\n",
    "12/30 * 8/30 * 12/30"
   ]
  },
  {
   "cell_type": "markdown",
   "metadata": {},
   "source": [
    "## Challenge 3\n",
    "\n",
    "You are planning to go on a picnic today but the morning is cloudy. You hate rain so you don't know whether to go out or stay home! To help you make a decision, you gather the following data about rainy days:\n",
    "\n",
    "* 50% of all rainy days start off cloudy!\n",
    "* Cloudy mornings are common. About 40% of days start cloudy. \n",
    "* This month is usually dry so only 3 of 30 days (10%) tend to be rainy. \n",
    "\n",
    "What is the chance of rain during the day?"
   ]
  },
  {
   "cell_type": "code",
   "execution_count": 1,
   "metadata": {},
   "outputs": [
    {
     "output_type": "execute_result",
     "data": {
      "text/plain": [
       "0.125"
      ]
     },
     "metadata": {},
     "execution_count": 1
    }
   ],
   "source": [
    "\"Your answer here\"\n",
    "#P(rain|cloudy) = P(rain and cloudy) / P(cloudy)\n",
    "(0.5*0.1)/0.4\n"
   ]
  },
  {
   "cell_type": "markdown",
   "metadata": {},
   "source": [
    "## Challenge 4\n",
    "\n",
    "One thousand people were asked through a telephone survey whether they thought more street lighting is needed at night or not.\n",
    "\n",
    "Out of the 480 men that answered the survey, 324 said yes and 156 said no. On the other hand, out of the 520 women that answered, 351 said yes and 169 said no. \n",
    "\n",
    "We wonder if men and women have a different opinions about the street lighting matter. Is gender relevant or irrelevant to the question?\n",
    "\n",
    "Consider the following events:\n",
    "- The answer is yes, so the person that answered thinks that more street lighting is needed.\n",
    "- The person who answered is a man.\n",
    "\n",
    "We want to know if these events are independent, that is, if the fact of wanting more light depends on whether one is male or female. Are these events independent or not?\n",
    "\n",
    "**Hint**: To clearly compare the answers by gender, it is best to place the data in a table."
   ]
  },
  {
   "cell_type": "code",
   "execution_count": null,
   "metadata": {},
   "outputs": [],
   "source": [
    "\"Your answer here\"\n",
    "\n",
    "#1000 asked\n",
    "#480 men, 324 yes, 156 no\n",
    "# 520 women, 351 yes, 169 no"
   ]
  },
  {
   "source": [
    "|       | yes   | no    | total |\n",
    "|-------|-------|-------|-------|\n",
    "| m     | 324 | 156 | 480 |\n",
    "| f     | 351 | 169 | 520 |\n",
    "| total | 675 | 325 | 1000     |"
   ],
   "cell_type": "markdown",
   "metadata": {}
  },
  {
   "source": [
    "|       | yes   | no    | total |\n",
    "|-------|-------|-------|-------|\n",
    "| m     | 0.324 | 0.156 | 0.480 |\n",
    "| f     | 0.351 | 0.169 | 0.520 |\n",
    "| total | 0.675 | 0.325 | 1     |\n"
   ],
   "cell_type": "markdown",
   "metadata": {}
  },
  {
   "cell_type": "code",
   "execution_count": null,
   "metadata": {},
   "outputs": [],
   "source": [
    "'''\n",
    "P(A) = Prob men\n",
    "P(Ac)= Prob women\n",
    "P(B) = yes lights\n",
    "P(Bc)= no lights\n",
    "\n",
    "P(A) = 0.480\n",
    "P(B) = 0.675\n",
    "P(A ^ B) = 0.324\n",
    "P(B) * P(A)= 0.480 * 0.675 = 0.324 = P(A ^ B)\n",
    "P(Ac^Bc) = 0.351\n",
    "P(Ac) * P(Bc) = 0.520 * 0.675 = 0.351 = P(Ac ^ Bc)\n",
    "--> independent\n",
    "'''\n"
   ]
  }
 ],
 "metadata": {
  "kernelspec": {
   "name": "python3",
   "display_name": "Python 3.8.8 64-bit ('base': conda)"
  },
  "language_info": {
   "codemirror_mode": {
    "name": "ipython",
    "version": 3
   },
   "file_extension": ".py",
   "mimetype": "text/x-python",
   "name": "python",
   "nbconvert_exporter": "python",
   "pygments_lexer": "ipython3",
   "version": "3.8.8"
  },
  "interpreter": {
   "hash": "05b3b62c7789db94d00c942f2499dd9a2876ea971fd9b7cf25c50892de6c631c"
  }
 },
 "nbformat": 4,
 "nbformat_minor": 2
}