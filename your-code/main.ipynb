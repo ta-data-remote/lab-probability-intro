{
 "cells": [
  {
   "cell_type": "markdown",
   "metadata": {},
   "source": [
    "# Introduction To Probability\n",
    "## Challenge 1\n",
    "\n",
    "A and B are events of a probability space with $(\\omega, \\sigma, P)$ such that $P(A) = 0.3$, $P(B) = 0.6$ and $P(A \\cap B) = 0.1$\n",
    "\n",
    "Which of the following statements are false?\n",
    "* $P(A \\cup B) = 0.6$\n",
    "* $P(A \\cap B^{C}) = 0.2$\n",
    "* $P(A \\cap (B \\cup B^{C})) = 0.4$\n",
    "* $P(A^{C} \\cap B^{C}) = 0.3$\n",
    "* $P((A \\cap B)^{C}) = 0.9$"
   ]
  },
  {
   "cell_type": "code",
   "execution_count": null,
   "metadata": {},
   "outputs": [],
   "source": [
    "\"Your answer here\"\n",
    "# would be nice to reach to results \n",
    "# 1. 𝑃(𝐴∪𝐵)=0.6 to check if its true:\n",
    "#    𝑃(𝐴∪𝐵) = 𝑃(𝐴) + 𝑃(𝐵) - P(A intersection B) = 0.3 + 0.6 - 0.1 = 0.8\n",
    "#    From result the union of A & B is 0.8 and hence the given statement is FALSE!\n",
    "\n",
    "# 2. 𝑃(𝐴∩(not)B)=0.2\n",
    "    # P(A and not B) = P(A) - P(A intersection B) = 0.3 - 0.1 = 0.2\n",
    "    # from the result, the statement is TRUE\n",
    "    \n",
    "# 3. 𝑃(𝐴 ∩ (𝐵 ∪(not𝐵))=0.4\n",
    "    # P(A intersection (B union not B)) \n",
    "    # first B union not B = P(A) - P(A intersection B) = 0.3 - 0.1 = 0.2\n",
    "    # P(A intersection (B union not B)) = P(A) + P(A) - P(A intersection B)\n",
    "    #                                   = 0.3 + 0.2 = 0.5\n",
    "    \n",
    "    # Result shows 0.5 instead 0.4 and hence statement is FALSE!\n",
    "    \n",
    "# 4. 𝑃(not 𝐴 intersection not 𝐵) = 0.3\n",
    "    # P(not A) = 1-P(A) = 1- 0.3 = 0.7\n",
    "    # P(not B) = 1-P(B) = 1- 0.6 = 0.3\n",
    "    # P(not(A and B))= 1-0.9 = 0.8\n",
    "    # 𝑃(not 𝐴 intersection not 𝐵) = P(not A) + P(not B) - P(not A and not B)\n",
    "    #                              = 0.7 + 0.3 - 0.8 = 0.2\n",
    "    # Hence this statement is FALSE!\n",
    "\n",
    "# 5. 𝑃((𝐴∩𝐵)𝐶)=0.9\n",
    "    # meaning - P(not (A intersection B)) = 0.9\n",
    "    # P (A intersection B) = 0.1\n",
    "    # P(not (A intersection B)) = 1- P (A intersection B) = 1-0.1 = 0.9\n",
    "    # This statement is True!"
   ]
  },
  {
   "cell_type": "markdown",
   "metadata": {},
   "source": [
    "## Challenge 2\n",
    "There is a box with 10 white balls, 12 red balls and 8 black balls. Calculate the probability of:\n",
    "* Taking a white ball out.\n",
    "* Taking a white ball out after taking a black ball out.\n",
    "* Taking a red ball out after taking a black and a red ball out.\n",
    "* Taking a red ball out after taking a black and a red ball out with reposition.\n",
    "\n",
    "**Hint**: Reposition means putting back the ball into the box after taking it out."
   ]
  },
  {
   "cell_type": "code",
   "execution_count": 31,
   "metadata": {},
   "outputs": [
    {
     "data": {
      "text/plain": [
       "0.3333333333333333"
      ]
     },
     "execution_count": 31,
     "metadata": {},
     "output_type": "execute_result"
    }
   ],
   "source": [
    "\n",
    "\"Probability of : Taking a white ball out \"\n",
    "#Sample size = 30\n",
    "# n(S) = total num of ways drawing 1 balls out of 30\n",
    "#      = 30C1 =30\n",
    "# E = event to draw white ball out of 10 = 10C1 = 10\n",
    "\"P(W) = n(E)/n(S) = 10/30\"\n",
    "\n",
    "probability_W = 10/30\n",
    "probability_W"
   ]
  },
  {
   "cell_type": "code",
   "execution_count": 42,
   "metadata": {},
   "outputs": [
    {
     "data": {
      "text/plain": [
       "0.09195402298850575"
      ]
     },
     "execution_count": 42,
     "metadata": {},
     "output_type": "execute_result"
    }
   ],
   "source": [
    "\"Probability of : Taking a white ball out after taking a black ball out. \"\n",
    "\"Total number of balls after taking black ball out = 29\"\n",
    "# n(S) = 29C1 = 29\n",
    "# conditional probability formula:\n",
    "\"P(B) = P(A intersection B) / P(B)\"\n",
    "# in our case, white intersection of black does not exist because there is only one ball taken out\n",
    "# and hence we consider only P(W) in this case\n",
    "\n",
    "# P(W) = P(W)*P(B)\n",
    "#P(W) = 10/29\n",
    "#P(B) = 8/30\n",
    "\n",
    "probability_W_after_black = (10/30)*(8/29)\n",
    "probability_W_after_black "
   ]
  },
  {
   "cell_type": "code",
   "execution_count": 67,
   "metadata": {},
   "outputs": [
    {
     "data": {
      "text/plain": [
       "0.04334975369458128"
      ]
     },
     "execution_count": 67,
     "metadata": {},
     "output_type": "execute_result"
    }
   ],
   "source": [
    "\"Taking a red ball out after taking a black and a red ball out\"\n",
    "#P(R) = P(R)*P(B)*P(R)\n",
    "probability_of_red_ball_after_taking_black_n_red = (8/30)*(12/29)*(11/28) # P(B)*P(R)*P(R)\n",
    "probability_of_red_ball_after_taking_black_n_red\n"
   ]
  },
  {
   "cell_type": "code",
   "execution_count": 71,
   "metadata": {},
   "outputs": [
    {
     "data": {
      "text/plain": [
       "0.04266666666666667"
      ]
     },
     "execution_count": 71,
     "metadata": {},
     "output_type": "execute_result"
    }
   ],
   "source": [
    "\"Taking a red ball out after taking a black and a red ball out with reposition\"\n",
    "\n",
    "#P(R)=P(B)*P(R)*P(R)*P(R)  ---10 white balls, 12 red balls and 8 black balls \n",
    "probability_of_R_after_B_n_R_n_R_in = (8/30)*(12/30)*(12/30)\n",
    "probability_of_R_after_B_n_R_n_R_in"
   ]
  },
  {
   "cell_type": "markdown",
   "metadata": {},
   "source": [
    "## Challenge 3\n",
    "\n",
    "You are planning to go on a picnic today but the morning is cloudy. You hate rain so you don't know whether to go out or stay home! To help you make a decision, you gather the following data about rainy days:\n",
    "\n",
    "* 50% of all rainy days start off cloudy!\n",
    "* Cloudy mornings are common. About 40% of days start cloudy. \n",
    "* This month is usually dry so only 3 of 30 days (10%) tend to be rainy. \n",
    "\n",
    "What is the chance of rain during the day?"
   ]
  },
  {
   "cell_type": "code",
   "execution_count": 72,
   "metadata": {},
   "outputs": [
    {
     "data": {
      "text/plain": [
       "0.125"
      ]
     },
     "execution_count": 72,
     "metadata": {},
     "output_type": "execute_result"
    }
   ],
   "source": [
    "\"Your answer here\"\n",
    "#total day = 30\n",
    "#P(A intersection B) =  rainy days and cloudy  = 50% = 15/30 = 0.5\n",
    "#P(B) = starts of cloudy days = 40% = 0.4\n",
    "#P(A)= rainy days = 10% = 0.1\n",
    "# probability of rain = P(A|B) = P(A).P(A intesection B) / P(B)\n",
    "probability_of_rain = (0.1)*(0.5)/(0.4)\n",
    "probability_of_rain"
   ]
  },
  {
   "cell_type": "markdown",
   "metadata": {},
   "source": [
    "## Challenge 4\n",
    "\n",
    "One thousand people were asked through a telephone survey whether they thought more street lighting is needed at night or not.\n",
    "\n",
    "Out of the 480 men that answered the survey, 324 said yes and 156 said no. On the other hand, out of the 520 women that answered, 351 said yes and 169 said no. \n",
    "\n",
    "We wonder if men and women have a different opinions about the street lighting matter. Is gender relevant or irrelevant to the question?\n",
    "\n",
    "Consider the following events:\n",
    "- The answer is yes, so the person that answered thinks that more street lighting is needed.\n",
    "- The person who answered is a man.\n",
    "\n",
    "We want to know if these events are independent, that is, if the fact of wanting more light depends on whether one is male or female. Are these events independent or not?\n",
    "\n",
    "**Hint**: To clearly compare the answers by gender, it is best to place the data in a table."
   ]
  },
  {
   "cell_type": "code",
   "execution_count": null,
   "metadata": {},
   "outputs": [],
   "source": [
    "# table by gender and yes-no counts"
   ]
  },
  {
   "cell_type": "markdown",
   "metadata": {},
   "source": [
    "| Gender| Yes | No |\n",
    "| --- | --- | --- |\n",
    "| Male | 324 |  156|\n",
    "| Female| 351 |  169|"
   ]
  },
  {
   "cell_type": "code",
   "execution_count": null,
   "metadata": {},
   "outputs": [],
   "source": [
    "# probability of yes = (324+351)/1000 = (675/1000)\n",
    "# probability of men_answering = 480/1000\n",
    "# probability of men_said_yes = 324/1000 = 0.324, this is intersection of men and answer as yes. \n",
    "# Lets call this probability as (M intersection Y) \n",
    "# Compare :  probability of yes * probability of men_answering = (675/1000)*(480/1000) = 0.324\n",
    "# When we see intersection value and conditional probability of yes and men are equal. \n",
    "# Hence from above result, we can say the events are independent and there is no influence whether it is\n",
    "# male or female who wants light."
   ]
  }
 ],
 "metadata": {
  "kernelspec": {
   "display_name": "Python 3",
   "language": "python",
   "name": "python3"
  },
  "language_info": {
   "codemirror_mode": {
    "name": "ipython",
    "version": 3
   },
   "file_extension": ".py",
   "mimetype": "text/x-python",
   "name": "python",
   "nbconvert_exporter": "python",
   "pygments_lexer": "ipython3",
   "version": "3.8.10"
  }
 },
 "nbformat": 4,
 "nbformat_minor": 2
}
