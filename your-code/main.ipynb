{
 "cells": [
  {
   "cell_type": "markdown",
   "metadata": {},
   "source": [
    "# Introduction To Probability\n",
    "## Challenge 1\n",
    "\n",
    "A and B are events of a probability space with $(\\omega, \\sigma, P)$ such that $P(A) = 0.3$, $P(B) = 0.6$ and $P(A \\cap B) = 0.1$\n",
    "\n",
    "Which of the following statements are false?\n",
    "* $P(A \\cup B) = 0.6$\n",
    "* $P(A \\cap B^{C}) = 0.2$\n",
    "* $P(A \\cap (B \\cup B^{C})) = 0.4$\n",
    "* $P(A^{C} \\cap B^{C}) = 0.3$\n",
    "* $P((A \\cap B)^{C}) = 0.9$"
   ]
  },
  {
   "cell_type": "code",
   "execution_count": null,
   "metadata": {},
   "outputs": [],
   "source": [
    "𝑃(𝐴∪𝐵)= 0.8\n",
    "False, corrected\n",
    "𝑃(𝐴∩𝐵𝐶)=0.2\n",
    "True\n",
    "\n",
    "𝑃(𝐴∩(𝐵∪𝐵𝐶))=0.4\n",
    "False\n",
    "(𝐵∪𝐵𝐶) I think it means P of B in everything thats not B, which is 0\n",
    "So... Prob of A intersecting with B not in B, i believe its 0.3\n",
    "\n",
    "𝑃(𝐴𝐶∩𝐵𝐶)=0\n",
    "False, corrected\n",
    "There's no intersection between not in A and not in B\n",
    "Answer is 0.2\n",
    "\n",
    "𝑃((𝐴∩𝐵)𝐶)=0.9\n",
    "True\n",
    "Probability of everything thats not in the intersection between A and B (0.1)\n",
    "1 - 0.1 = 0.9 \n",
    "\n"
   ]
  },
  {
   "cell_type": "markdown",
   "metadata": {},
   "source": [
    "## Challenge 2\n",
    "There is a box with 10 white balls, 12 red balls and 8 black balls. Calculate the probability of:\n",
    "* Taking a white ball out.\n",
    "* Taking a white ball out after taking a black ball out.\n",
    "* Taking a red ball out after taking a black and a red ball out.\n",
    "* Taking a red ball out after taking a black and a red ball out with reposition.\n",
    "\n",
    "**Hint**: Reposition means putting back the ball into the box after taking it out."
   ]
  },
  {
   "cell_type": "code",
   "execution_count": 2,
   "metadata": {},
   "outputs": [
    {
     "data": {
      "text/plain": [
       "0.3333333333333333"
      ]
     },
     "execution_count": 2,
     "metadata": {},
     "output_type": "execute_result"
    }
   ],
   "source": [
    "\"Taking a white ball out = 10 white balls / Total balls including white \"\n",
    "Therefore_answer1 = 1/3\n",
    "Therefore_answer1"
   ]
  },
  {
   "cell_type": "code",
   "execution_count": 5,
   "metadata": {},
   "outputs": [
    {
     "data": {
      "text/plain": [
       "0.09195402298850575"
      ]
     },
     "execution_count": 5,
     "metadata": {},
     "output_type": "execute_result"
    }
   ],
   "source": [
    "\n",
    "\"Taking a white ball out after taking a black ball out = (Black balls/ Total balls) X (10 white balls / Total balls including white - 1 black ball) \"\n",
    "Therefore_answer2 = 8/30 * 10/29\n",
    "Therefore_answer2\n"
   ]
  },
  {
   "cell_type": "code",
   "execution_count": 7,
   "metadata": {},
   "outputs": [
    {
     "data": {
      "text/plain": [
       "0.043349753694581286"
      ]
     },
     "execution_count": 7,
     "metadata": {},
     "output_type": "execute_result"
    }
   ],
   "source": [
    "\"\"\"Taking a red ball out after taking a black and a red ball out \n",
    "= (Black balls/ Total balls) X (Red balls/Total balls -1 black) (11 red balls / Total balls including white - 1 black ball - 1 red)\"\"\"\n",
    "\n",
    "Therefore_answer3 = 8/30 * 12/29 * 11/28\n",
    "Therefore_answer3\n",
    "\n",
    "\n",
    "#0.04334975369458128 "
   ]
  },
  {
   "cell_type": "code",
   "execution_count": 8,
   "metadata": {},
   "outputs": [
    {
     "data": {
      "text/plain": [
       "0.042666666666666665"
      ]
     },
     "execution_count": 8,
     "metadata": {},
     "output_type": "execute_result"
    }
   ],
   "source": [
    "\"Taking a red ball out after taking a black and a red ball out with reposition\"\n",
    "\n",
    "Therefore_answer4 = 12/30 * 8/30 * 12/30\n",
    "Therefore_answer4\n",
    "\n",
    "#0.042666666666666665"
   ]
  },
  {
   "cell_type": "markdown",
   "metadata": {},
   "source": [
    "## Challenge 3\n",
    "\n",
    "You are planning to go on a picnic today but the morning is cloudy. You hate rain so you don't know whether to go out or stay home! To help you make a decision, you gather the following data about rainy days:\n",
    "\n",
    "* 50% of all rainy days start off cloudy!\n",
    "* Cloudy mornings are common. About 40% of days start cloudy. \n",
    "* This month is usually dry so only 3 of 30 days (10%) tend to be rainy. \n",
    "\n",
    "What is the chance of rain during the day?"
   ]
  },
  {
   "cell_type": "code",
   "execution_count": 69,
   "metadata": {},
   "outputs": [
    {
     "data": {
      "text/plain": [
       "0.125"
      ]
     },
     "execution_count": 69,
     "metadata": {},
     "output_type": "execute_result"
    }
   ],
   "source": [
    "\"Baye's Theorem\"\n",
    "\n",
    "(1/10 * 1/2) / (2/5)\n",
    "\n",
    "\n",
    "#0.125"
   ]
  },
  {
   "cell_type": "markdown",
   "metadata": {},
   "source": [
    "## Challenge 4\n",
    "\n",
    "One thousand people were asked through a telephone survey whether they thought more street lighting is needed at night or not.\n",
    "\n",
    "Out of the 480 men that answered the survey, 324 said yes and 156 said no. On the other hand, out of the 520 women that answered, 351 said yes and 169 said no. \n",
    "\n",
    "We wonder if men and women have a different opinions about the street lighting matter. Is gender relevant or irrelevant to the question?\n",
    "\n",
    "Consider the following events:\n",
    "- The answer is yes, so the person that answered thinks that more street lighting is needed.\n",
    "- The person who answered is a man.\n",
    "\n",
    "We want to know if these events are independent, that is, if the fact of wanting more light depends on whether one is male or female. Are these events independent or not?\n",
    "\n",
    "**Hint**: To clearly compare the answers by gender, it is best to place the data in a table."
   ]
  },
  {
   "cell_type": "code",
   "execution_count": 84,
   "metadata": {},
   "outputs": [
    {
     "name": "stdout",
     "output_type": "stream",
     "text": [
      "Probability of saying Yes is: 0.675\n",
      "The probability that if they said Yes, he's a man is: 0.675\n",
      "The probability that if they said Yes, she's a woman is: 0.675\n",
      "Both events are independent\n"
     ]
    }
   ],
   "source": [
    "# Lets do some ratios (?)\n",
    "Yes = 675/1000\n",
    "No = 325/1000\n",
    "\n",
    "print(\"Probability of saying Yes is:\", Yes)\n",
    "\n",
    "\n",
    "Men_yes = 324/480\n",
    "Women_yes = 351/520\n",
    "print(\"The probability that if they said Yes, he's a man is:\", Men_yes)\n",
    "print(\"The probability that if they said Yes, she's a woman is:\", Women_yes)\n",
    "\n",
    "print(\"Both events are independent\")"
   ]
  },
  {
   "cell_type": "markdown",
   "metadata": {},
   "source": [
    "_______ MEN _______ WOMEN _______ TOTAL\n",
    "Y _____ 324 _______  351 ________  675\n",
    "N _____ 156 _______  169 ________  325\n",
    "TOT ___ 480 _______  520 ________ 1000"
   ]
  },
  {
   "cell_type": "code",
   "execution_count": 85,
   "metadata": {},
   "outputs": [
    {
     "data": {
      "text/plain": [
       "0.324"
      ]
     },
     "execution_count": 85,
     "metadata": {},
     "output_type": "execute_result"
    }
   ],
   "source": [
    "# My own non-sensical calculations, dont look, ty\n",
    "\n",
    "Yes_and_man = Yes * 480/1000\n",
    "Yes_and_man"
   ]
  },
  {
   "cell_type": "code",
   "execution_count": 86,
   "metadata": {},
   "outputs": [
    {
     "data": {
      "text/plain": [
       "0.351"
      ]
     },
     "execution_count": 86,
     "metadata": {},
     "output_type": "execute_result"
    }
   ],
   "source": [
    "Yes_and_woman = Yes * 520/1000\n",
    "Yes_and_woman"
   ]
  },
  {
   "cell_type": "code",
   "execution_count": null,
   "metadata": {},
   "outputs": [],
   "source": []
  }
 ],
 "metadata": {
  "kernelspec": {
   "display_name": "Python 3",
   "language": "python",
   "name": "python3"
  },
  "language_info": {
   "codemirror_mode": {
    "name": "ipython",
    "version": 3
   },
   "file_extension": ".py",
   "mimetype": "text/x-python",
   "name": "python",
   "nbconvert_exporter": "python",
   "pygments_lexer": "ipython3",
   "version": "3.8.8"
  }
 },
 "nbformat": 4,
 "nbformat_minor": 2
}
