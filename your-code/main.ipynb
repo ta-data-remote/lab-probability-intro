{
 "cells": [
  {
   "cell_type": "markdown",
   "metadata": {},
   "source": [
    "# Introduction To Probability\n",
    "## Challenge 1\n",
    "\n",
    "A and B are events of a probability space with $(\\omega, \\sigma, P)$ such that $P(A) = 0.3$, $P(B) = 0.6$ and $P(A \\cap B) = 0.1$\n",
    "\n",
    "Which of the following statements are false?\n",
    "* $P(A \\cup B) = 0.6$\n",
    "* $P(A \\cap B^{C}) = 0.2$\n",
    "* $P(A \\cap (B \\cup B^{C})) = 0.4$\n",
    "* $P(A^{C} \\cap B^{C}) = 0.3$\n",
    "* $P((A \\cap B)^{C}) = 0.9$"
   ]
  },
  {
   "cell_type": "code",
   "execution_count": 1,
   "metadata": {},
   "outputs": [
    {
     "data": {
      "text/plain": [
       "True"
      ]
     },
     "execution_count": 1,
     "metadata": {},
     "output_type": "execute_result"
    }
   ],
   "source": [
    "False, \"Correct would be 0,8\"\n",
    "True, \"This is correct\"\n",
    "False, \"It would still be 0,1\"\n",
    "False, \"It would be 0,2\"\n",
    "True"
   ]
  },
  {
   "cell_type": "markdown",
   "metadata": {},
   "source": [
    "## Challenge 2\n",
    "There is a box with 10 white balls, 12 red balls and 8 black balls. Calculate the probability of:\n",
    "* Taking a white ball out.\n",
    "* Taking a white ball out after taking a black ball out.\n",
    "* Taking a red ball out after taking a black and a red ball out.\n",
    "* Taking a red ball out after taking a black and a red ball out with reposition.\n",
    "\n",
    "**Hint**: Reposition means putting back the ball into the box after taking it out."
   ]
  },
  {
   "cell_type": "code",
   "execution_count": 2,
   "metadata": {},
   "outputs": [
    {
     "name": "stdout",
     "output_type": "stream",
     "text": [
      "0.3333333333333333\n"
     ]
    }
   ],
   "source": [
    "\"Taking a white ball out = 1/3 \"\n",
    "\"20 Balls Total\"\n",
    "\"P of WB = 10/30 = 0,33\"\n",
    "\"P of RB = 12/30 = 0,4\"\n",
    "\"P of BB = 8/30 = 0,26\"\n",
    "\n",
    "prob_white_balls = 10/30\n",
    "print(prob_white_balls)"
   ]
  },
  {
   "cell_type": "code",
   "execution_count": 4,
   "metadata": {},
   "outputs": [
    {
     "name": "stdout",
     "output_type": "stream",
     "text": [
      "0.09195402298850575\n"
     ]
    }
   ],
   "source": [
    "\"Taking a white ball out after taking a black ball out\"\n",
    "total_balls = 30\n",
    "p_bb = 8 / total_balls\n",
    "total_balls -= 1\n",
    "p_wb = 10 / total_balls\n",
    "p_bb_wb = p_bb * p_wb\n",
    "print(p_bb_wb)"
   ]
  },
  {
   "cell_type": "code",
   "execution_count": 5,
   "metadata": {},
   "outputs": [
    {
     "name": "stdout",
     "output_type": "stream",
     "text": [
      "0.04334975369458128\n"
     ]
    }
   ],
   "source": [
    "\"Taking a red ball out after taking a black and a red ball out\"\n",
    "total_balls = 30\n",
    "p_bb = 8 / total_balls\n",
    "total_balls -= 1\n",
    "p_rb = 12 / total_balls\n",
    "total_balls -= 1\n",
    "p_rb1 = 11 / total_balls\n",
    "end_p = p_rb * p_rb1 * p_bb\n",
    "print(end_p)"
   ]
  },
  {
   "cell_type": "code",
   "execution_count": 7,
   "metadata": {},
   "outputs": [
    {
     "name": "stdout",
     "output_type": "stream",
     "text": [
      "0.04266666666666667\n"
     ]
    }
   ],
   "source": [
    "\"Taking a red ball out after taking a black and a red ball out with reposition\"\n",
    "total_balls = 30\n",
    "p_bb = 8 / total_balls\n",
    "p_rb = 12 / total_balls\n",
    "p_rb1 = 12 / total_balls\n",
    "end_p = p_rb * p_rb1 * p_bb\n",
    "print(end_p)\n"
   ]
  },
  {
   "cell_type": "markdown",
   "metadata": {},
   "source": [
    "## Challenge 3\n",
    "\n",
    "You are planning to go on a picnic today but the morning is cloudy. You hate rain so you don't know whether to go out or stay home! To help you make a decision, you gather the following data about rainy days:\n",
    "\n",
    "* 50% of all rainy days start off cloudy!\n",
    "* Cloudy mornings are common. About 40% of days start cloudy. \n",
    "* This month is usually dry so only 3 of 30 days (10%) tend to be rainy. \n",
    "\n",
    "What is the chance of rain during the day?"
   ]
  },
  {
   "cell_type": "code",
   "execution_count": 8,
   "metadata": {},
   "outputs": [
    {
     "data": {
      "text/plain": [
       "0.125"
      ]
     },
     "execution_count": 8,
     "metadata": {},
     "output_type": "execute_result"
    }
   ],
   "source": [
    "30\n",
    "18\n",
    "9\n",
    "8"
   ]
  },
  {
   "cell_type": "markdown",
   "metadata": {},
   "source": [
    "## Challenge 4\n",
    "\n",
    "One thousand people were asked through a telephone survey whether they thought more street lighting is needed at night or not.\n",
    "\n",
    "Out of the 480 men that answered the survey, 324 said yes and 156 said no. On the other hand, out of the 520 women that answered, 351 said yes and 169 said no. \n",
    "\n",
    "We wonder if men and women have a different opinions about the street lighting matter. Is gender relevant or irrelevant to the question?\n",
    "\n",
    "Consider the following events:\n",
    "- The answer is yes, so the person that answered thinks that more street lighting is needed.\n",
    "- The person who answered is a man.\n",
    "\n",
    "We want to know if these events are independent, that is, if the fact of wanting more light depends on whether one is male or female. Are these events independent or not?\n",
    "\n",
    "**Hint**: To clearly compare the answers by gender, it is best to place the data in a table."
   ]
  },
  {
   "cell_type": "code",
   "execution_count": 9,
   "metadata": {},
   "outputs": [
    {
     "name": "stdout",
     "output_type": "stream",
     "text": [
      "The proability to answer yes to this question out of all the participans is 0.675.\n",
      "There still isn't a gender bias in this answer though. Because more Women were questioned than men, the probability of being a man and answering Yes is lower than that of being a women and answering yes.\n",
      "If the probability of the people that siad yes is compared to how many were questioned tghen both come out to 67,5% , which makes this a non biased question atleast with the data we have.\n"
     ]
    }
   ],
   "source": [
    "\"\"\" \n",
    "Men: 480 QUestioned = 100%\n",
    "Men_y = 324 = 67,5%\n",
    "Men_n = 156 = 32,5%\n",
    "---\n",
    "WOmen: 520 QUestioned = 100%\n",
    "Women_y = 351 =  67,5%\n",
    "Women_n = 169 = 32,5%\n",
    "\"\"\"\n",
    "Total_people = 1000\n",
    "Men_questioned = 480\n",
    "Women_questioned = 520\n",
    "Men_yes = 324\n",
    "Men_no = 156\n",
    "Men_y_p = Men_yes / Men_questioned\n",
    "men_no_p = Men_no / Men_questioned\n",
    "Women_yes = 351\n",
    "Women_no = 169\n",
    "Women_y_p = Women_yes / Women_questioned\n",
    "Women_n_p = Women_no / Women_questioned\n",
    "yes_all = (Men_yes+Women_yes) / Total_people\n",
    "yes_and_man = Men_yes / Total_people\n",
    "print(f\"The proability to answer yes to this question out of all the participans is {yes_all}.\")\n",
    "\n",
    "print(\"There still isn't a gender bias in this answer though. Because more Women were questioned than men, the probability of being a man and answering Yes is lower than that of being a women and answering yes.\")\n",
    "print(\"If the probability of the people that siad yes is compared to how many were questioned tghen both come out to 67,5% , which makes this a non biased question atleast with the data we have.\")\n",
    "\n"
   ]
  },
  {
   "cell_type": "code",
   "execution_count": null,
   "metadata": {},
   "outputs": [],
   "source": []
  }
 ],
 "metadata": {
  "kernelspec": {
   "display_name": "Python 3.8.8 64-bit ('Stockpython': venv)",
   "language": "python",
   "name": "python388jvsc74a57bd04f430009bdbd02cf2111f02c5b0018fb93c28cb6873e6d8f5f211be72fe6200a"
  },
  "language_info": {
   "codemirror_mode": {
    "name": "ipython",
    "version": 3
   },
   "file_extension": ".py",
   "mimetype": "text/x-python",
   "name": "python",
   "nbconvert_exporter": "python",
   "pygments_lexer": "ipython3",
   "version": "3.8.8"
  }
 },
 "nbformat": 4,
 "nbformat_minor": 2
}