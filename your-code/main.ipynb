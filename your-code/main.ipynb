{
 "cells": [
  {
   "cell_type": "markdown",
   "metadata": {
    "toc": true
   },
   "source": [
    "<h1>Table of Contents<span class=\"tocSkip\"></span></h1>\n",
    "<div class=\"toc\"><ul class=\"toc-item\"><li><span><a href=\"#Introduction-To-Probability\" data-toc-modified-id=\"Introduction-To-Probability-1\"><span class=\"toc-item-num\">1&nbsp;&nbsp;</span>Introduction To Probability</a></span><ul class=\"toc-item\"><li><span><a href=\"#Challenge-1\" data-toc-modified-id=\"Challenge-1-1.1\"><span class=\"toc-item-num\">1.1&nbsp;&nbsp;</span>Challenge 1</a></span></li><li><span><a href=\"#Challenge-2\" data-toc-modified-id=\"Challenge-2-1.2\"><span class=\"toc-item-num\">1.2&nbsp;&nbsp;</span>Challenge 2</a></span></li><li><span><a href=\"#Challenge-3\" data-toc-modified-id=\"Challenge-3-1.3\"><span class=\"toc-item-num\">1.3&nbsp;&nbsp;</span>Challenge 3</a></span></li><li><span><a href=\"#Challenge-4\" data-toc-modified-id=\"Challenge-4-1.4\"><span class=\"toc-item-num\">1.4&nbsp;&nbsp;</span>Challenge 4</a></span></li></ul></li></ul></div>"
   ]
  },
  {
   "cell_type": "markdown",
   "metadata": {},
   "source": [
    "# Introduction To Probability\n",
    "## Challenge 1\n",
    "\n",
    "A and B are events of a probability space with $(\\omega, \\sigma, P)$ such that $P(A) = 0.3$, $P(B) = 0.6$ and $P(A \\cap B) = 0.1$\n",
    "\n",
    "Which of the following statements are false?\n",
    "* $P(A \\cup B) = 0.6$\n",
    "* $P(A \\cap B^{C}) = 0.2$\n",
    "* $P(A \\cap (B \\cup B^{C})) = 0.4$\n",
    "* $P(A^{C} \\cap B^{C}) = 0.3$\n",
    "* $P((A \\cap B)^{C}) = 0.9$"
   ]
  },
  {
   "cell_type": "code",
   "execution_count": null,
   "metadata": {},
   "outputs": [],
   "source": [
    "'''\n",
    "𝑃(𝐴∪𝐵)=0.6          >  False: 𝑃(𝐴∪𝐵)       = 0.8\n",
    "𝑃(𝐴∩𝐵c)=0.2         >  True\n",
    "𝑃(𝐴∩(𝐵∪𝐵c))=0.4     >  False: 𝑃(𝐴∩(𝐵∪𝐵c))  = 0.3\n",
    "𝑃(𝐴c∩𝐵c)=0.3        >  False: 𝑃(𝐴c∩𝐵c)     = 0.2\n",
    "𝑃((𝐴∩𝐵)c)=0.9       >  True\n",
    "''' "
   ]
  },
  {
   "cell_type": "markdown",
   "metadata": {},
   "source": [
    "## Challenge 2\n",
    "There is a box with 10 white balls, 12 red balls and 8 black balls. Calculate the probability of:\n",
    "* Taking a white ball out.\n",
    "* Taking a white ball out after taking a black ball out.\n",
    "* Taking a red ball out after taking a black and a red ball out.\n",
    "* Taking a red ball out after taking a black and a red ball out with reposition.\n",
    "\n",
    "**Hint**: Reposition means putting back the ball into the box after taking it out."
   ]
  },
  {
   "cell_type": "code",
   "execution_count": null,
   "metadata": {},
   "outputs": [],
   "source": [
    "\"\"\"\n",
    "Taking a white ball out.\n",
    "10/30 = 0.33\n",
    "\n",
    "\n",
    "Taking a white ball out after taking a black ball out.\n",
    "(8/30)*(10/29) = 0.09\n",
    "\n",
    "\n",
    "Taking a red ball out after taking a black and a red ball out.\n",
    "(8/30) * (12/29) * (11/28) = 0.043\n",
    "\n",
    "\n",
    "Taking a red ball out after taking a black and a red ball out with reposition.\n",
    "(8/30) * (12/30) * (12/30) = 0.042\n",
    "\n",
    "\n",
    "\"\"\""
   ]
  },
  {
   "cell_type": "code",
   "execution_count": 1,
   "metadata": {
    "ExecuteTime": {
     "end_time": "2021-04-19T14:33:02.108222Z",
     "start_time": "2021-04-19T14:33:02.058878Z"
    }
   },
   "outputs": [
    {
     "data": {
      "text/plain": [
       "0.04266666666666667"
      ]
     },
     "execution_count": 1,
     "metadata": {},
     "output_type": "execute_result"
    }
   ],
   "source": [
    "(8/30) * (12/30) * (12/30)\n"
   ]
  },
  {
   "cell_type": "markdown",
   "metadata": {},
   "source": [
    "## Challenge 3\n",
    "\n",
    "You are planning to go on a picnic today but the morning is cloudy. You hate rain so you don't know whether to go out or stay home! To help you make a decision, you gather the following data about rainy days:\n",
    "\n",
    "* 50% of all rainy days start off cloudy!\n",
    "* Cloudy mornings are common. About 40% of days start cloudy. \n",
    "* This month is usually dry so only 3 of 30 days (10%) tend to be rainy. \n",
    "\n",
    "What is the chance of rain during the day?"
   ]
  },
  {
   "cell_type": "code",
   "execution_count": null,
   "metadata": {},
   "outputs": [],
   "source": [
    "\"\"\"\n",
    "p_rain = 0.1\n",
    "p_cloudy = 0.4 \n",
    "p(cloudy|rain) = 0.5\n",
    "\n",
    "p(rain|cloudy) = 0.5 * (0.1/0.4) = 0.125\n",
    "\n",
    "\"\"\""
   ]
  },
  {
   "cell_type": "markdown",
   "metadata": {},
   "source": [
    "## Challenge 4\n",
    "\n",
    "One thousand people were asked through a telephone survey whether they thought more street lighting is needed at night or not.\n",
    "\n",
    "Out of the 480 men that answered the survey, 324 said yes and 156 said no. On the other hand, out of the 520 women that answered, 351 said yes and 169 said no. \n",
    "\n",
    "We wonder if men and women have a different opinions about the street lighting matter. Is gender relevant or irrelevant to the question?\n",
    "\n",
    "Consider the following events:\n",
    "- The answer is yes, so the person that answered thinks that more street lighting is needed.\n",
    "- The person who answered is a man.\n",
    "\n",
    "We want to know if these events are independent, that is, if the fact of wanting more light depends on whether one is male or female. Are these events independent or not?\n",
    "\n",
    "**Hint**: To clearly compare the answers by gender, it is best to place the data in a table."
   ]
  },
  {
   "cell_type": "code",
   "execution_count": null,
   "metadata": {},
   "outputs": [],
   "source": [
    "m_yes = 324\n",
    "m_no = 156\n",
    "f_yes = 351\n",
    "f_no = 169\n",
    "\n",
    "\n",
    "total = 1000\n",
    "m_total = 480\n",
    "f_total = 520\n",
    "\n",
    "\n",
    "p_yes = 0.675\n",
    "\n",
    "p_m_yes = 0.675\n",
    "p_f_yes = 0.675\n",
    "\n",
    "yes = (324+351)/1000"
   ]
  },
  {
   "cell_type": "code",
   "execution_count": null,
   "metadata": {},
   "outputs": [],
   "source": [
    "\"\"\"\n",
    "The gender is irrelevant to the question.\n",
    "\"\"\""
   ]
  }
 ],
 "metadata": {
  "kernelspec": {
   "display_name": "Python 3",
   "language": "python",
   "name": "python3"
  },
  "language_info": {
   "codemirror_mode": {
    "name": "ipython",
    "version": 3
   },
   "file_extension": ".py",
   "mimetype": "text/x-python",
   "name": "python",
   "nbconvert_exporter": "python",
   "pygments_lexer": "ipython3",
   "version": "3.8.5"
  },
  "toc": {
   "base_numbering": 1,
   "nav_menu": {},
   "number_sections": true,
   "sideBar": true,
   "skip_h1_title": false,
   "title_cell": "Table of Contents",
   "title_sidebar": "Contents",
   "toc_cell": true,
   "toc_position": {},
   "toc_section_display": true,
   "toc_window_display": false
  },
  "varInspector": {
   "cols": {
    "lenName": 16,
    "lenType": 16,
    "lenVar": 40
   },
   "kernels_config": {
    "python": {
     "delete_cmd_postfix": "",
     "delete_cmd_prefix": "del ",
     "library": "var_list.py",
     "varRefreshCmd": "print(var_dic_list())"
    },
    "r": {
     "delete_cmd_postfix": ") ",
     "delete_cmd_prefix": "rm(",
     "library": "var_list.r",
     "varRefreshCmd": "cat(var_dic_list()) "
    }
   },
   "types_to_exclude": [
    "module",
    "function",
    "builtin_function_or_method",
    "instance",
    "_Feature"
   ],
   "window_display": false
  }
 },
 "nbformat": 4,
 "nbformat_minor": 2
}
