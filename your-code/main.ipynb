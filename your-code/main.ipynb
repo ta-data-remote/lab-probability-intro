{
 "cells": [
  {
   "cell_type": "markdown",
   "metadata": {},
   "source": [
    "# Introduction To Probability\n",
    "## Challenge 1\n",
    "\n",
    "A and B are events of a probability space with $(\\omega, \\sigma, P)$ such that $P(A) = 0.3$, $P(B) = 0.6$ and $P(A \\cap B) = 0.1$\n",
    "\n",
    "Which of the following statements are false?\n",
    "* $P(A \\cup B) = 0.6$\n",
    "* $P(A \\cap B^{C}) = 0.2$\n",
    "* $P(A \\cap (B \\cup B^{C})) = 0.4$\n",
    "* $P(A^{C} \\cap B^{C}) = 0.3$\n",
    "* $P((A \\cap B)^{C}) = 0.9$"
   ]
  },
  {
   "cell_type": "code",
   "execution_count": null,
   "metadata": {},
   "outputs": [],
   "source": [
    "\"\"\"\n",
    "your solution here\n",
    "a∪b = or = a + b - (𝐴∩𝐵)\n",
    "a∩b = and = schnittmenge von a und b \n",
    "b to the power C 1-0.6\n",
    "Bc = everything not B 1-0.6\n",
    "\"\"\""
   ]
  },
  {
   "cell_type": "code",
   "execution_count": null,
   "metadata": {},
   "outputs": [],
   "source": [
    "# 𝑃(𝐴∪𝐵)=0.6 false because 0.3+0.6-0.1 =0.8\n",
    "# 𝑃(𝐴∩𝐵𝐶)=0.2 true because 0.3 - 0.1 = 0.2    (a - schnittstelle ab)\n",
    "# 𝑃(𝐴∩(𝐵∪𝐵𝐶))=0.4 false because a =0.3 (a intersecting with 1(b und non-b))= a\n",
    "# 𝑃(𝐴𝐶∩𝐵𝐶)=0.3 (not-a intersect with not-b > everything except a or b) false because 1 - a∪b > 1-0.8= 0.2\n",
    "# 𝑃((𝐴∩𝐵)𝐶)=0.9 true, since 1-0.1=0.9"
   ]
  },
  {
   "cell_type": "markdown",
   "metadata": {},
   "source": [
    "## Challenge 2\n",
    "There is a box with 10 white balls, 12 red balls and 8 black balls. Calculate the probability of:\n",
    "* Taking a white ball out.\n",
    "* Taking a white ball out after taking a black ball out.\n",
    "* Taking a red ball out after taking a black and a red ball out.\n",
    "* Taking a red ball out after taking a black and a red ball out with reposition.\n",
    "\n",
    "**Hint**: Reposition means putting back the ball into the box after taking it out."
   ]
  },
  {
   "cell_type": "code",
   "execution_count": null,
   "metadata": {},
   "outputs": [],
   "source": [
    "\"\"\"\n",
    "your solution here\n",
    "w = 10\n",
    "r = 12\n",
    "b = 8\n",
    "n = 30 (all)\n",
    "\n",
    "# Taking a white ball out.\n",
    "P(w)= w/n > P(w) = 10/30 = 1/3 = 0,333\n",
    "\n",
    "# Taking a white ball out after taking a black ball out.\n",
    "P(b)= 8/30\n",
    "P(w-b)= 10/29 \n",
    "P(w-b) = P(b) * P(w/n-1) = 0,091\n",
    "> multiply probabilities when calculating the pb of 2 events happening sequentially\n",
    "\n",
    "# Taking a red ball out after taking a black and a red ball out.(Reihenfolge: b/r/r)\n",
    "P(r-r-b)= P(b) * P(r/n-1)* P(r/n-2) = (8/30)*(12/29)*(12/28)= 0,047\n",
    "\n",
    "\n",
    "# Taking a red ball out after taking a black and a red ball out with reposition.\n",
    "P(r-r-b) = P(b) * P(r)* P(r) = (8/30)*(12/30)*(12/30) = 0,042\n",
    "\n",
    "\"\"\""
   ]
  },
  {
   "cell_type": "markdown",
   "metadata": {},
   "source": [
    "## Challenge 3\n",
    "\n",
    "You are planning to go on a picnic today but the morning is cloudy. You hate rain so you don't know whether to go out or stay home! To help you make a decision, you gather the following data about rainy days:\n",
    "\n",
    "* 50% of all rainy days start off cloudy!\n",
    "* Cloudy mornings are common. About 40% of days start cloudy. \n",
    "* This month is usually dry so only 3 of 30 days (10%) tend to be rainy. \n",
    "\n",
    "What is the chance of rain during the day?"
   ]
  },
  {
   "cell_type": "code",
   "execution_count": null,
   "metadata": {},
   "outputs": [],
   "source": [
    "\"\"\"\n",
    "your solution here\n",
    "P(A|B) = P(B|A * P(A)/P(B)) > conditional propability \n",
    "\n",
    "P(B|A) = propability of b given a\n",
    "propability of B (days start cloudy) when A happens (rainy)\n",
    "P(A|B) = Probability of A (rainy day) when B happens (days start cloudy)\n",
    "\"\"\""
   ]
  },
  {
   "cell_type": "code",
   "execution_count": null,
   "metadata": {},
   "outputs": [],
   "source": [
    "P_A = 0.1 # > 10% tend to be rainy\n",
    "P_B = 0.4 # > About 40% of days start cloudy\n",
    "P(B|A) = 0.5\n",
    "\n",
    "P(A|B) = P(B|A * P(A)/P(B))\n",
    "P(A|B) = 0.5 * 0.1/0.4 = 0.125 = 12.5%"
   ]
  },
  {
   "cell_type": "code",
   "execution_count": null,
   "metadata": {},
   "outputs": [],
   "source": [
    "# the chance of rain during the day is 12.5%"
   ]
  },
  {
   "cell_type": "markdown",
   "metadata": {},
   "source": [
    "## Challenge 4\n",
    "\n",
    "One thousand people were asked through a telephone survey whether they thought more street lighting is needed at night or not.\n",
    "\n",
    "Out of the 480 men that answered the survey, 324 said yes and 156 said no. On the other hand, out of the 520 women that answered, 351 said yes and 169 said no. \n",
    "\n",
    "We wonder if men and women have a different opinions about the street lighting matter. Is gender relevant or irrelevant to the question?\n",
    "\n",
    "Consider the following events:\n",
    "- The answer is yes, so the person that answered thinks that more street lighting is needed.\n",
    "- The person who answered is a man.\n",
    "\n",
    "We want to know if these events are independent, that is, if the fact of wanting more light depends on whether one is male or female. Are these events independent or not?\n",
    "\n",
    "**Hint**: To clearly compare the answers by gender, it is best to place the data in a table."
   ]
  },
  {
   "cell_type": "code",
   "execution_count": null,
   "metadata": {},
   "outputs": [],
   "source": [
    "\"\"\"\n",
    "your solution here\n",
    "M = 480\n",
    "My = 324\n",
    "Mn = 156        #P(Mn) = 1-P(My)\n",
    "\n",
    "W = 520\n",
    "Wy = 351\n",
    "Wn = 169\n",
    "\n",
    "n = 100\n",
    "\n",
    "P(My)= 324/480 = 0,675\n",
    "P(Wy)= 351/520 = 0,675\n",
    "The probability of a man saying yes is equal to the probability of a woman saying yes. Gender seems irrelevant.\n",
    "\n",
    "The events are independent because it has the same probability (men or women)\n",
    "\n",
    "\"\"\""
   ]
  }
 ],
 "metadata": {
  "kernelspec": {
   "display_name": "Python 3",
   "language": "python",
   "name": "python3"
  },
  "language_info": {
   "codemirror_mode": {
    "name": "ipython",
    "version": 3
   },
   "file_extension": ".py",
   "mimetype": "text/x-python",
   "name": "python",
   "nbconvert_exporter": "python",
   "pygments_lexer": "ipython3",
   "version": "3.8.5"
  },
  "toc": {
   "base_numbering": 1,
   "nav_menu": {},
   "number_sections": true,
   "sideBar": true,
   "skip_h1_title": false,
   "title_cell": "Table of Contents",
   "title_sidebar": "Contents",
   "toc_cell": false,
   "toc_position": {},
   "toc_section_display": true,
   "toc_window_display": false
  },
  "varInspector": {
   "cols": {
    "lenName": 16,
    "lenType": 16,
    "lenVar": 40
   },
   "kernels_config": {
    "python": {
     "delete_cmd_postfix": "",
     "delete_cmd_prefix": "del ",
     "library": "var_list.py",
     "varRefreshCmd": "print(var_dic_list())"
    },
    "r": {
     "delete_cmd_postfix": ") ",
     "delete_cmd_prefix": "rm(",
     "library": "var_list.r",
     "varRefreshCmd": "cat(var_dic_list()) "
    }
   },
   "types_to_exclude": [
    "module",
    "function",
    "builtin_function_or_method",
    "instance",
    "_Feature"
   ],
   "window_display": false
  }
 },
 "nbformat": 4,
 "nbformat_minor": 2
}
