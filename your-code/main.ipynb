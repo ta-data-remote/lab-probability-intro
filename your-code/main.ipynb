{
 "cells": [
  {
   "cell_type": "markdown",
   "metadata": {},
   "source": [
    "# Introduction To Probability\n",
    "## Challenge 1\n",
    "\n",
    "A and B are events of a probability space with $(\\omega, \\sigma, P)$ such that $P(A) = 0.3$, $P(B) = 0.6$ and $P(A \\cap B) = 0.1$\n",
    "\n",
    "Which of the following statements are false?\n",
    "* $P(A \\cup B) = 0.6$  \n",
    "* $P(A \\cap B^{C}) = 0.2$\n",
    "* $P(A \\cap (B \\cup B^{C})) = 0.4$\n",
    "* $P(A^{C} \\cap B^{C}) = 0.3$\n",
    "* $P((A \\cap B)^{C}) = 0.9$"
   ]
  },
  {
   "cell_type": "code",
   "execution_count": null,
   "metadata": {},
   "outputs": [],
   "source": [
    "# 𝑃(𝐴∪𝐵)=0.6 FALSE\n",
    "# 0,3 + 0,6 - 0,1 = 0,8\n",
    "# When adding A and B you have to take away the intersection\n",
    "\n",
    "# 𝑃(𝐴∩𝐵𝐶)=0.2 FALSE\n",
    "# 0,3 - 0,1 + 0,1 = 0,3\n",
    "\n",
    "# 𝑃(𝐴∩(𝐵∪𝐵𝐶))=0.4 FALSE\n",
    "# A Intersection (B and everything thats not B) = A\n",
    "# A = 0,3 \n",
    "\n",
    "# 𝑃(𝐴𝐶∩𝐵𝐶)=0.3 FALSE\n",
    "# Not A and not B = 1 - 0,8 (see first question) = 0,2\n",
    "\n",
    "# 𝑃((𝐴∩𝐵)𝐶)=0.9 TRUE\n",
    "# opposite of 𝑃(𝐴∩𝐵)=0.1"
   ]
  },
  {
   "cell_type": "markdown",
   "metadata": {},
   "source": [
    "## Challenge 2\n",
    "There is a box with 10 white balls, 12 red balls and 8 black balls. Calculate the probability of:\n",
    "* Taking a white ball out.\n",
    "* Taking a white ball out after taking a black ball out.\n",
    "* Taking a red ball out after taking a black and a red ball out.\n",
    "* Taking a red ball out after taking a black and a red ball out with reposition.\n",
    "\n",
    "**Hint**: Reposition means putting back the ball into the box after taking it out."
   ]
  },
  {
   "cell_type": "code",
   "execution_count": 1,
   "metadata": {},
   "outputs": [
    {
     "data": {
      "text/plain": [
       "0.3333333333333333"
      ]
     },
     "execution_count": 1,
     "metadata": {},
     "output_type": "execute_result"
    }
   ],
   "source": [
    "\"Taking a white ball out = 1/3 \"\n",
    "\n",
    "# 10 + 12 + 8 = 30 \n",
    "# 10/30 = 1/3"
   ]
  },
  {
   "cell_type": "code",
   "execution_count": 3,
   "metadata": {},
   "outputs": [
    {
     "data": {
      "text/plain": [
       "0.09195402298850575"
      ]
     },
     "execution_count": 3,
     "metadata": {},
     "output_type": "execute_result"
    }
   ],
   "source": [
    "\"Taking a white ball out after taking a black ball out\"\n",
    "# 8/30 = 0,26\n",
    "# 0,26 * (10/29) = 0,0919540229885..."
   ]
  },
  {
   "cell_type": "code",
   "execution_count": 6,
   "metadata": {},
   "outputs": [
    {
     "data": {
      "text/plain": [
       "0.04334975369458128"
      ]
     },
     "execution_count": 6,
     "metadata": {},
     "output_type": "execute_result"
    }
   ],
   "source": [
    "\"Taking a red ball out after taking a black and a red ball out\"\n",
    "# 8/30 = 0,26\n",
    "# 0,26 * (12/29) * (11/28) = 0,433497536945..."
   ]
  },
  {
   "cell_type": "code",
   "execution_count": 7,
   "metadata": {},
   "outputs": [
    {
     "data": {
      "text/plain": [
       "0.042666666666666665"
      ]
     },
     "execution_count": 7,
     "metadata": {},
     "output_type": "execute_result"
    }
   ],
   "source": [
    "\"Taking a red ball out after taking a black and a red ball out with reposition\"\n",
    "# (8/30) * (12/30) * (12/30) = 0,426"
   ]
  },
  {
   "cell_type": "markdown",
   "metadata": {},
   "source": [
    "## Challenge 3\n",
    "\n",
    "You are planning to go on a picnic today but the morning is cloudy. You hate rain so you don't know whether to go out or stay home! To help you make a decision, you gather the following data about rainy days:\n",
    "\n",
    "* 50% of all rainy days start off cloudy!\n",
    "* Cloudy mornings are common. About 40% of days start cloudy. \n",
    "* This month is usually dry so only 3 of 30 days (10%) tend to be rainy. \n",
    "\n",
    "What is the chance of rain during the day?"
   ]
  },
  {
   "cell_type": "code",
   "execution_count": 14,
   "metadata": {},
   "outputs": [
    {
     "name": "stdout",
     "output_type": "stream",
     "text": [
      "12.5%\n"
     ]
    }
   ],
   "source": [
    "#Probability of rain on a cloudy morning\n",
    "\n",
    "# Probability of cloudy (A) = 0,40\n",
    "cloudy = 0.40\n",
    "# Probability of rainy (B) = 0,10\n",
    "rainy = 0.10\n",
    "# Probability of clody when also rainy (A|B) = 0,50\n",
    "cloudy_when_rainy = 0.50\n",
    "# Probability of rain when also clody (B|A) = ?\n",
    "# P(A and B) (cloudy and rainy) = P(cloudy when rainy) * P(rainy) = P(rainy when cloudy) * P(cloudy)\n",
    "cloudy_and_rainy = cloudy_when_rainy * rainy\n",
    "# P(B|A) = P(A and B) / P(A)\n",
    "prc = cloudy_and_rainy / cloudy\n",
    "\n",
    "print(f\"{prc*100}%\")"
   ]
  },
  {
   "cell_type": "markdown",
   "metadata": {},
   "source": [
    "## Challenge 4\n",
    "\n",
    "One thousand people were asked through a telephone survey whether they thought more street lighting is needed at night or not.\n",
    "\n",
    "Out of the 480 men that answered the survey, 324 said yes and 156 said no. On the other hand, out of the 520 women that answered, 351 said yes and 169 said no. \n",
    "\n",
    "We wonder if men and women have a different opinions about the street lighting matter. Is gender relevant or irrelevant to the question?\n",
    "\n",
    "Consider the following events:\n",
    "- The answer is yes, so the person that answered thinks that more street lighting is needed.\n",
    "- The person who answered is a man.\n",
    "\n",
    "We want to know if these events are independent, that is, if the fact of wanting more light depends on whether one is male or female. Are these events independent or not?\n",
    "\n",
    "**Hint**: To clearly compare the answers by gender, it is best to place the data in a table."
   ]
  },
  {
   "cell_type": "code",
   "execution_count": 11,
   "metadata": {},
   "outputs": [
    {
     "name": "stdout",
     "output_type": "stream",
     "text": [
      "67.5%\n"
     ]
    }
   ],
   "source": [
    "yes_men = (324/480)\n",
    "print(f\"{yes_men*100}%\")"
   ]
  },
  {
   "cell_type": "code",
   "execution_count": 4,
   "metadata": {},
   "outputs": [
    {
     "name": "stdout",
     "output_type": "stream",
     "text": [
      "32.5%\n"
     ]
    }
   ],
   "source": [
    "no_men = (156/480)\n",
    "print(f\"{no_men*100}%\")"
   ]
  },
  {
   "cell_type": "code",
   "execution_count": 5,
   "metadata": {},
   "outputs": [
    {
     "name": "stdout",
     "output_type": "stream",
     "text": [
      "67.5%\n"
     ]
    }
   ],
   "source": [
    "yes_women = (351/520)\n",
    "print(f\"{yes_women*100}%\")"
   ]
  },
  {
   "cell_type": "code",
   "execution_count": 12,
   "metadata": {},
   "outputs": [
    {
     "name": "stdout",
     "output_type": "stream",
     "text": [
      "32.5%\n"
     ]
    }
   ],
   "source": [
    "no_women = (169/520)\n",
    "print(f\"{no_women*100}%\")"
   ]
  },
  {
   "cell_type": "code",
   "execution_count": 10,
   "metadata": {},
   "outputs": [
    {
     "name": "stdout",
     "output_type": "stream",
     "text": [
      "52.0%\n"
     ]
    }
   ],
   "source": [
    "women = (520/1000)\n",
    "print(f\"{women*100}%\")"
   ]
  },
  {
   "cell_type": "code",
   "execution_count": 13,
   "metadata": {},
   "outputs": [
    {
     "name": "stdout",
     "output_type": "stream",
     "text": [
      "48.0%\n"
     ]
    }
   ],
   "source": [
    "men = (480/1000)\n",
    "print(f\"{men*100}%\")"
   ]
  },
  {
   "cell_type": "code",
   "execution_count": 15,
   "metadata": {},
   "outputs": [
    {
     "name": "stdout",
     "output_type": "stream",
     "text": [
      "67.5%\n"
     ]
    }
   ],
   "source": [
    "yes = (324+351)/1000\n",
    "print(f\"{yes*100}%\")\n",
    "\n",
    "#Here you can see that the gender does not matter, since the same amount of women and men answered yes"
   ]
  },
  {
   "cell_type": "code",
   "execution_count": 16,
   "metadata": {},
   "outputs": [
    {
     "name": "stdout",
     "output_type": "stream",
     "text": [
      "32.5%\n"
     ]
    }
   ],
   "source": [
    "no = (156+169)/1000\n",
    "print(f\"{no*100}%\")"
   ]
  },
  {
   "cell_type": "code",
   "execution_count": 17,
   "metadata": {},
   "outputs": [
    {
     "name": "stdout",
     "output_type": "stream",
     "text": [
      "35.1%\n"
     ]
    }
   ],
   "source": [
    "#probability of a person saying yes and being a woman\n",
    "pyw = yes * women\n",
    "print(f\"{pyw*100}%\")"
   ]
  },
  {
   "cell_type": "code",
   "execution_count": 18,
   "metadata": {},
   "outputs": [
    {
     "name": "stdout",
     "output_type": "stream",
     "text": [
      "32.4%\n"
     ]
    }
   ],
   "source": [
    "pym = yes * men\n",
    "print(f\"{pym*100}%\")"
   ]
  },
  {
   "cell_type": "code",
   "execution_count": 21,
   "metadata": {},
   "outputs": [
    {
     "name": "stdout",
     "output_type": "stream",
     "text": [
      "17%\n"
     ]
    }
   ],
   "source": [
    "pnw = no * women\n",
    "print(f\"{round(pnw*100)}%\")"
   ]
  },
  {
   "cell_type": "code",
   "execution_count": 22,
   "metadata": {},
   "outputs": [
    {
     "name": "stdout",
     "output_type": "stream",
     "text": [
      "15.6%\n"
     ]
    }
   ],
   "source": [
    "pnm = no * men\n",
    "print(f\"{pnm*100}%\")"
   ]
  }
 ],
 "metadata": {
  "kernelspec": {
   "display_name": "Python 3",
   "language": "python",
   "name": "python3"
  },
  "language_info": {
   "codemirror_mode": {
    "name": "ipython",
    "version": 3
   },
   "file_extension": ".py",
   "mimetype": "text/x-python",
   "name": "python",
   "nbconvert_exporter": "python",
   "pygments_lexer": "ipython3",
   "version": "3.8.5"
  }
 },
 "nbformat": 4,
 "nbformat_minor": 2
}
