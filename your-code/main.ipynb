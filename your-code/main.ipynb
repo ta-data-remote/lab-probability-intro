{
 "cells": [
  {
   "cell_type": "markdown",
   "metadata": {},
   "source": [
    "# Introduction To Probability\n",
    "## Challenge 1\n",
    "\n",
    "A and B are events of a probability space with $(\\omega, \\sigma, P)$ such that $P(A) = 0.3$, $P(B) = 0.6$ and $P(A \\cap B) = 0.1$\n",
    "\n",
    "Which of the following statements are false?\n",
    "* $P(A \\cup B) = 0.6$\n",
    "* $P(A \\cap B^{C}) = 0.2$\n",
    "* $P(A \\cap (B \\cup B^{C})) = 0.4$\n",
    "* $P(A^{C} \\cap B^{C}) = 0.3$\n",
    "* $P((A \\cap B)^{C}) = 0.9$"
   ]
  },
  {
   "cell_type": "code",
   "execution_count": 32,
   "metadata": {},
   "outputs": [
    {
     "name": "stdout",
     "output_type": "stream",
     "text": [
      "𝑃(𝐴∪𝐵)= 0.8 Wrong\n",
      "𝑃(𝐴∩𝐵^𝐶)= 0.2 Correct\n",
      "𝑃(𝐴∩(𝐵∪𝐵^𝐶))= 0.3 Wrong\n",
      "𝑃(𝐴^𝐶∩𝐵^𝐶)= 0.2 Wrong\n",
      "𝑃((𝐴∩𝐵)^𝐶)= 0.9 Correct\n"
     ]
    }
   ],
   "source": [
    "# your code here\n",
    "\n",
    "a=0.3     # 𝑃(𝐴)=0.3 \n",
    "b=0.6     # 𝑃(𝐵)=0.6\n",
    "ab=0.1    # 𝑃(𝐴∩𝐵)=0.1\n",
    "\n",
    "\n",
    "# 𝑃(𝐴∪𝐵)=0.6     prob of A union prob B // A and B together (A∩B double)\n",
    "p1=round((a+b)-ab,2)\n",
    "p1s=0.6\n",
    "if p1==p1s:\n",
    "    print(\"𝑃(𝐴∪𝐵)=\", p1, \"Correct\")\n",
    "else:\n",
    "    print(\"𝑃(𝐴∪𝐵)=\", p1, \"Wrong\")\n",
    "    \n",
    "# 𝑃(𝐴∩𝐵^𝐶)=0.2   prob of A intersects prob of not B\n",
    "p2=round(a-ab,2)\n",
    "p2s=0.2\n",
    "if p2==p2s:\n",
    "    print(\"𝑃(𝐴∩𝐵^𝐶)=\", p2, \"Correct\")\n",
    "else:\n",
    "    print(\"𝑃(𝐴∩𝐵^𝐶)=\", p2, \"Wrong\")\n",
    "\n",
    "# 𝑃(𝐴∩(𝐵∪𝐵^𝐶))=0.4   prob of A intersects with (prob B union not B = 1) -> prob of A\n",
    "p3=round(a, 2)\n",
    "p3s=0.4\n",
    "if p3==p3s:\n",
    "    print(\"𝑃(𝐴∩(𝐵∪𝐵^𝐶))=\", p3, \"Correct\")\n",
    "else:\n",
    "    print(\"𝑃(𝐴∩(𝐵∪𝐵^𝐶))=\", p3, \"Wrong\")\n",
    "\n",
    "# 𝑃(𝐴^𝐶∩𝐵^𝐶)=0.3    prob not A intersect with not B -> everything not A or B (𝐴∪𝐵)\n",
    "p4=round(1-p1, 2)\n",
    "p4s=0.3\n",
    "if p4==p4s:\n",
    "    print(\"𝑃(𝐴^𝐶∩𝐵^𝐶)=\", p4, \"Correct\")\n",
    "else:\n",
    "    print(\"𝑃(𝐴^𝐶∩𝐵^𝐶)=\", p4, \"Wrong\")\n",
    "\n",
    "# 𝑃((𝐴∩𝐵)^𝐶)=0.9    prob of not A intersects B\n",
    "p5=round(1-ab, 2)\n",
    "p5s=0.9\n",
    "if p5==p5s:\n",
    "    print(\"𝑃((𝐴∩𝐵)^𝐶)=\", p5, \"Correct\")\n",
    "else:\n",
    "    print(\"𝑃((𝐴∩𝐵)^𝐶)=\", p5, \"Wrong\")"
   ]
  },
  {
   "cell_type": "markdown",
   "metadata": {},
   "source": [
    "## Challenge 2\n",
    "There is a box with 10 white balls, 12 red balls and 8 black balls. Calculate the probability of:\n",
    "* Taking a white ball out.\n",
    "* Taking a white ball out after taking a black ball out.\n",
    "* Taking a red ball out after taking a black and a red ball out.\n",
    "* Taking a red ball out after taking a black and a red ball out with reposition.\n",
    "\n",
    "**Hint**: Reposition means putting back the ball into the box after taking it out."
   ]
  },
  {
   "cell_type": "code",
   "execution_count": 15,
   "metadata": {},
   "outputs": [
    {
     "name": "stdout",
     "output_type": "stream",
     "text": [
      "The probability of taking a white ball out is 33.33 %\n",
      "The probability of taking a white ball out after taking out a black ball is 9.2 %\n",
      "The probability of taking a red ball out after taking a black and a red ball out is 4.73 %\n",
      "The probability of taking a red ball out after taking a black and a red ball out with reposition is 4.27 %\n"
     ]
    }
   ],
   "source": [
    "# your code here\n",
    "\n",
    "w = 10\n",
    "r = 12\n",
    "b = 8\n",
    "t = w + r + b \n",
    "\n",
    "# Taking a white ball out.\n",
    "pw = round(w / t * 100, 2)\n",
    "print(\"The probability of taking a white ball out is\",pw,\"%\")\n",
    "\n",
    "# Taking a white ball out after taking a black ball out. calculate both prob\n",
    "b2 = b-1\n",
    "t2 = w + r + b2\n",
    "pw2 = round((b / t) * (w / t2) * 100, 2)\n",
    "print(\"The probability of taking a white ball out after taking out a black ball is\",pw2,\"%\")\n",
    "\n",
    "# Taking a red ball out after taking a black and a red ball out.\n",
    "b3=b-1\n",
    "r2=r-1\n",
    "t3=w+r2+b3\n",
    "pr= round((b / t) * (r / t2)*(r / t3) * 100, 2)\n",
    "print(\"The probability of taking a red ball out after taking a black and a red ball out is\",pr,\"%\")\n",
    "\n",
    "# Taking a red ball out after taking a black and a red ball out with reposition. (prob of all compl)\n",
    "prob_with_rep = round((r/t)*(b/t)*(r/t) *100, 2)\n",
    "print(\"The probability of taking a red ball out after taking a black and a red ball out with reposition is\",prob_with_rep,\"%\")"
   ]
  },
  {
   "cell_type": "markdown",
   "metadata": {},
   "source": [
    "## Challenge 3\n",
    "\n",
    "You are planning to go on a picnic today but the morning is cloudy. You hate rain so you don't know whether to go out or stay home! To help you make a decision, you gather the following data about rainy days:\n",
    "\n",
    "* 50% of all rainy days start off cloudy!\n",
    "* Cloudy mornings are common. About 40% of days start cloudy. \n",
    "* This month is usually dry so only 3 of 30 days (10%) tend to be rainy. \n",
    "\n",
    "What is the chance of rain during the day?"
   ]
  },
  {
   "cell_type": "code",
   "execution_count": 4,
   "metadata": {},
   "outputs": [
    {
     "name": "stdout",
     "output_type": "stream",
     "text": [
      "The chance of rain during the day is: 12.5 %\n"
     ]
    }
   ],
   "source": [
    "# your code here\n",
    "\n",
    "# 50% of all rainy days start off cloudy!\n",
    "p_mor_sta_clo = 0.5 \n",
    "\n",
    "# Cloudy mornings are common. About 40% of days start cloudy.\n",
    "p_day_clo = 0.4\n",
    "\n",
    "# This month is usually dry so only 3 of 30 days (10%) tend to be rainy.\n",
    "p_mon_rai = 0.1\n",
    "\n",
    "# need to calculate -> What is the chance of rain during the day? \n",
    "# p_rai|clo => p_rai_clo\n",
    "\n",
    "p_rai_clo = round((p_mor_sta_clo * p_mon_rai / p_day_clo) * 100, 2)\n",
    "print(\"The chance of rain during the day is:\", p_rai_clo, \"%\")"
   ]
  },
  {
   "cell_type": "markdown",
   "metadata": {},
   "source": [
    "## Challenge 4\n",
    "\n",
    "One thousand people were asked through a telephone survey whether they thought more street lighting is needed at night or not.\n",
    "\n",
    "Out of the 480 men that answered the survey, 324 said yes and 156 said no. On the other hand, out of the 520 women that answered, 351 said yes and 169 said no. \n",
    "\n",
    "We wonder if men and women have a different opinions about the street lighting matter. Is gender relevant or irrelevant to the question?\n",
    "\n",
    "Consider the following events:\n",
    "- The answer is yes, so the person that answered thinks that more street lighting is needed.\n",
    "- The person who answered is a man.\n",
    "\n",
    "We want to know if these events are independent, that is, if the fact of wanting more light depends on whether one is male or female. Are these events independent or not?\n",
    "\n",
    "**Hint**: To clearly compare the answers by gender, it is best to place the data in a table."
   ]
  },
  {
   "cell_type": "code",
   "execution_count": 10,
   "metadata": {},
   "outputs": [
    {
     "name": "stdout",
     "output_type": "stream",
     "text": [
      "The probability of men saying yes is: 67.5 %\n",
      "The probability of men saying yes is: 67.5 %\n"
     ]
    }
   ],
   "source": [
    "# your code here\n",
    "\n",
    "men_t = 480\n",
    "\n",
    "men_y = 324\n",
    "men_n = 156\n",
    "\n",
    "women_t = 520\n",
    "\n",
    "women_y = 351\n",
    "women_n = 169\n",
    "\n",
    "p_men_y = round((men_y / men_t)*100, 2)\n",
    "print(\"The probability of men saying yes is:\", p_men_y,\"%\")\n",
    "\n",
    "p_women_y = round((women_y / women_t) *100, 2)\n",
    "print(\"The probability of men saying yes is:\", p_women_y,\"%\")\n",
    "\n",
    "# same prob independent of gender"
   ]
  }
 ],
 "metadata": {
  "kernelspec": {
   "display_name": "Python 3",
   "language": "python",
   "name": "python3"
  },
  "language_info": {
   "codemirror_mode": {
    "name": "ipython",
    "version": 3
   },
   "file_extension": ".py",
   "mimetype": "text/x-python",
   "name": "python",
   "nbconvert_exporter": "python",
   "pygments_lexer": "ipython3",
   "version": "3.8.5"
  },
  "toc": {
   "base_numbering": 1,
   "nav_menu": {},
   "number_sections": true,
   "sideBar": true,
   "skip_h1_title": false,
   "title_cell": "Table of Contents",
   "title_sidebar": "Contents",
   "toc_cell": false,
   "toc_position": {},
   "toc_section_display": true,
   "toc_window_display": false
  },
  "varInspector": {
   "cols": {
    "lenName": 16,
    "lenType": 16,
    "lenVar": 40
   },
   "kernels_config": {
    "python": {
     "delete_cmd_postfix": "",
     "delete_cmd_prefix": "del ",
     "library": "var_list.py",
     "varRefreshCmd": "print(var_dic_list())"
    },
    "r": {
     "delete_cmd_postfix": ") ",
     "delete_cmd_prefix": "rm(",
     "library": "var_list.r",
     "varRefreshCmd": "cat(var_dic_list()) "
    }
   },
   "types_to_exclude": [
    "module",
    "function",
    "builtin_function_or_method",
    "instance",
    "_Feature"
   ],
   "window_display": false
  }
 },
 "nbformat": 4,
 "nbformat_minor": 2
}
