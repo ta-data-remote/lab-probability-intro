{
 "cells": [
  {
   "cell_type": "markdown",
   "metadata": {},
   "source": [
    "# Introduction To Probability\n",
    "## Challenge 1\n",
    "\n",
    "A and B are events of a probability space with $(\\omega, \\sigma, P)$ such that $P(A) = 0.3$, $P(B) = 0.6$ and $P(A \\cap B) = 0.1$\n",
    "\n",
    "Which of the following statements are false?\n",
    "* $P(A \\cup B) = 0.6$\n",
    "* $P(A \\cap B^{C}) = 0.2$\n",
    "* $P(A \\cap (B \\cup B^{C})) = 0.4$\n",
    "* $P(A^{C} \\cap B^{C}) = 0.3$\n",
    "* $P((A \\cap B)^{C}) = 0.9$"
   ]
  },
  {
   "cell_type": "code",
   "execution_count": 18,
   "metadata": {
    "ExecuteTime": {
     "end_time": "2021-04-19T13:23:58.335841Z",
     "start_time": "2021-04-19T13:23:58.267227Z"
    }
   },
   "outputs": [
    {
     "name": "stdout",
     "output_type": "stream",
     "text": [
      "P(A u B) = 0.8\n",
      "P(A n B^c) = 0.2\n",
      "P(A n (BuB^c)) = 0.3\n",
      "P(A^c n B^c) = 0.2\n",
      "P((A n B)^c) = 0.9\n"
     ]
    }
   ],
   "source": [
    "# P(A u B) = P(A) + P(B) - P(A n B)\n",
    "\n",
    "p_a = 0.3\n",
    "p_b = 0.6\n",
    "p_anb = 0.1\n",
    "\n",
    "p_aub = round(p_a + p_b - p_anb,4)\n",
    "\n",
    "print('P(A u B) = {}'.format(p_aub))\n",
    "\n",
    "# P(A n B^c) = P(A) - P(A n B)\n",
    "\n",
    "p_anbc = round(p_a - p_anb,4)\n",
    "\n",
    "print('P(A n B^c) = {}'.format(p_anbc))\n",
    "\n",
    "# P(A n (BuB^c)) = P(A)\n",
    "\n",
    "p_an_bubc = round(p_a,4)\n",
    "\n",
    "print('P(A n (BuB^c)) = {}'.format(p_an_bubc))\n",
    "\n",
    "# P(A^c n B^c) = 1- P(AuB)\n",
    "\n",
    "p_acnbc = round(1-p_aub,4)\n",
    "\n",
    "print('P(A^c n B^c) = {}'.format(p_acnbc))\n",
    "\n",
    "# P((A n B)^c) = 1- P(AnB)\n",
    "\n",
    "p_anb_c = round(1-p_anb,4)\n",
    "\n",
    "print('P((A n B)^c) = {}'.format(p_anb_c))\n",
    "\n",
    "############\n",
    "# First, third and fourth are false"
   ]
  },
  {
   "cell_type": "markdown",
   "metadata": {},
   "source": [
    "## Challenge 2\n",
    "There is a box with 10 white balls, 12 red balls and 8 black balls. Calculate the probability of:\n",
    "* Taking a white ball out.\n",
    "* Taking a white ball out after taking a black ball out.\n",
    "* Taking a red ball out after taking a black and a red ball out.\n",
    "* Taking a red ball out after taking a black and a red ball out with reposition.\n",
    "\n",
    "**Hint**: Reposition means putting back the ball into the box after taking it out."
   ]
  },
  {
   "cell_type": "code",
   "execution_count": 27,
   "metadata": {
    "ExecuteTime": {
     "end_time": "2021-04-19T13:34:02.987433Z",
     "start_time": "2021-04-19T13:34:02.965931Z"
    }
   },
   "outputs": [
    {
     "name": "stdout",
     "output_type": "stream",
     "text": [
      "Probability of taking a white ball out: 33.33%\n",
      "Probability of taking a white ball out after taking a black ball out: 34.48%\n",
      "Probability of taking a red ball out after taking a black and a red ball out: 37.93%\n",
      "Probability of taking a red ball out after taking a black and a red ball out with reposition: 40.0%\n"
     ]
    }
   ],
   "source": [
    "total = 10 + 12 + 8\n",
    "w = 10\n",
    "b = 8\n",
    "r = 12\n",
    "\n",
    "p_w = w/total\n",
    "\n",
    "print('Probability of taking a white ball out: {}%'.format(round(p_w*100,2)))\n",
    "\n",
    "total_new = total-1\n",
    "b_new = b-1\n",
    "\n",
    "p_w_new = w/total_new\n",
    "\n",
    "print('Probability of taking a white ball out after taking a black ball out: {}%'.format(round(p_w_new*100,2)))\n",
    "\n",
    "total_new_new = total_new-1\n",
    "r_new_new = r-1\n",
    "\n",
    "p_r_new_new = r_new_new/total_new\n",
    "\n",
    "print('Probability of taking a red ball out after taking a black and a red ball out: {}%'.format(round(p_r_new_new*100,2)))\n",
    "\n",
    "\n",
    "p_r = r/total\n",
    "\n",
    "print('Probability of taking a red ball out after taking a black and a red ball out with reposition: {}%'.format(round(p_r*100,2)))\n",
    "\n"
   ]
  },
  {
   "cell_type": "markdown",
   "metadata": {},
   "source": [
    "## Challenge 3\n",
    "\n",
    "You are planning to go on a picnic today but the morning is cloudy. You hate rain so you don't know whether to go out or stay home! To help you make a decision, you gather the following data about rainy days:\n",
    "\n",
    "* 50% of all rainy days start off cloudy!\n",
    "* Cloudy mornings are common. About 40% of days start cloudy. \n",
    "* This month is usually dry so only 3 of 30 days (10%) tend to be rainy. \n",
    "\n",
    "What is the chance of rain during the day?"
   ]
  },
  {
   "cell_type": "code",
   "execution_count": 31,
   "metadata": {
    "ExecuteTime": {
     "end_time": "2021-04-19T13:50:19.284889Z",
     "start_time": "2021-04-19T13:50:19.240307Z"
    }
   },
   "outputs": [
    {
     "name": "stdout",
     "output_type": "stream",
     "text": [
      "The chance of rain during the day is: 12.5%\n"
     ]
    }
   ],
   "source": [
    "# P(cloudy|rain) = 0.5\n",
    "\n",
    "p_cl_rn = 0.5\n",
    "\n",
    "# P(cloudy) = 0.4\n",
    "\n",
    "p_cl = 0.4 \n",
    "\n",
    "# P(rain) = 0.1\n",
    "\n",
    "p_rn = 0.1\n",
    "\n",
    "# P(rain|cloudy) = P(cloudy|rain)*P(rain)/P(cloudy)\n",
    "\n",
    "p_rn_cl = p_cl_rn*p_rn/p_cl\n",
    "\n",
    "print('The chance of rain during the day is: {}%'.format(round(p_rn_cl*100,2)))"
   ]
  },
  {
   "cell_type": "markdown",
   "metadata": {},
   "source": [
    "## Challenge 4\n",
    "\n",
    "One thousand people were asked through a telephone survey whether they thought more street lighting is needed at night or not.\n",
    "\n",
    "Out of the 480 men that answered the survey, 324 said yes and 156 said no. On the other hand, out of the 520 women that answered, 351 said yes and 169 said no. \n",
    "\n",
    "We wonder if men and women have a different opinions about the street lighting matter. Is gender relevant or irrelevant to the question?\n",
    "\n",
    "Consider the following events:\n",
    "- The answer is yes, so the person that answered thinks that more street lighting is needed.\n",
    "- The person who answered is a man.\n",
    "\n",
    "We want to know if these events are independent, that is, if the fact of wanting more light depends on whether one is male or female. Are these events independent or not?\n",
    "\n",
    "**Hint**: To clearly compare the answers by gender, it is best to place the data in a table."
   ]
  },
  {
   "cell_type": "code",
   "execution_count": 38,
   "metadata": {
    "ExecuteTime": {
     "end_time": "2021-04-19T14:05:38.134041Z",
     "start_time": "2021-04-19T14:05:38.059285Z"
    }
   },
   "outputs": [
    {
     "name": "stdout",
     "output_type": "stream",
     "text": [
      "Is P(yes|man) = P(yes) correct?: True\n",
      "Is P(man|yes) = P(man) correct?: True\n"
     ]
    }
   ],
   "source": [
    "men = 480\n",
    "\n",
    "men_yes = 324\n",
    "men_no = 156\n",
    "\n",
    "women = 520\n",
    "\n",
    "women_yes = 351\n",
    "women_no = 169\n",
    "\n",
    "p_yes = (women_yes+men_yes)/(women+men) # A=yes\n",
    "p_man = men/(men+women)                 # B=man\n",
    "\n",
    "# For them to be independent they need to follow these relations:\n",
    "# P(A|B) = P(A) --> P(yes|man) = P(yes)\n",
    "# P(B|A) = P(B) --> P(man|yes) = P(man)\n",
    "\n",
    "p_yes_man = men_yes/men\n",
    "p_man_yes = men_yes/(men_yes+women_yes)\n",
    "\n",
    "print('Is P(yes|man) = P(yes) correct?:',p_yes_man==p_yes)\n",
    "print('Is P(man|yes) = P(man) correct?:',p_man_yes==p_man)\n"
   ]
  },
  {
   "cell_type": "code",
   "execution_count": 37,
   "metadata": {
    "ExecuteTime": {
     "end_time": "2021-04-19T14:05:35.557296Z",
     "start_time": "2021-04-19T14:05:35.508275Z"
    }
   },
   "outputs": [
    {
     "data": {
      "text/plain": [
       "'\\nYes, they are independent\\n'"
      ]
     },
     "execution_count": 37,
     "metadata": {},
     "output_type": "execute_result"
    }
   ],
   "source": [
    "\"\"\"\n",
    "Yes, they are independent\n",
    "\"\"\""
   ]
  }
 ],
 "metadata": {
  "kernelspec": {
   "display_name": "Python 3",
   "language": "python",
   "name": "python3"
  },
  "language_info": {
   "codemirror_mode": {
    "name": "ipython",
    "version": 3
   },
   "file_extension": ".py",
   "mimetype": "text/x-python",
   "name": "python",
   "nbconvert_exporter": "python",
   "pygments_lexer": "ipython3",
   "version": "3.8.5"
  },
  "latex_envs": {
   "LaTeX_envs_menu_present": true,
   "autoclose": false,
   "autocomplete": true,
   "bibliofile": "biblio.bib",
   "cite_by": "apalike",
   "current_citInitial": 1,
   "eqLabelWithNumbers": true,
   "eqNumInitial": 1,
   "hotkeys": {
    "equation": "Ctrl-E",
    "itemize": "Ctrl-I"
   },
   "labels_anchors": false,
   "latex_user_defs": false,
   "report_style_numbering": false,
   "user_envs_cfg": false
  },
  "varInspector": {
   "cols": {
    "lenName": 16,
    "lenType": 16,
    "lenVar": 40
   },
   "kernels_config": {
    "python": {
     "delete_cmd_postfix": "",
     "delete_cmd_prefix": "del ",
     "library": "var_list.py",
     "varRefreshCmd": "print(var_dic_list())"
    },
    "r": {
     "delete_cmd_postfix": ") ",
     "delete_cmd_prefix": "rm(",
     "library": "var_list.r",
     "varRefreshCmd": "cat(var_dic_list()) "
    }
   },
   "types_to_exclude": [
    "module",
    "function",
    "builtin_function_or_method",
    "instance",
    "_Feature"
   ],
   "window_display": false
  }
 },
 "nbformat": 4,
 "nbformat_minor": 2
}
